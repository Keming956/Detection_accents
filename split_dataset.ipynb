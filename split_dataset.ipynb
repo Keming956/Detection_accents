{
 "cells": [
  {
   "cell_type": "code",
   "execution_count": null,
   "metadata": {},
   "outputs": [],
   "source": [
    "import os\n",
    "import shutil\n",
    "import random\n",
    "from pathlib import Path\n",
    "\n",
    "# Set up source folders and split ratio\n",
    "source_folders = ['england', 'usa', 'india']\n",
    "split_ratio = 0.8\n",
    "\n",
    "# Create target directory structure\n",
    "for split in ['train', 'val']:\n",
    "    for folder in source_folders:\n",
    "        Path(f\"{split}/{folder}\").mkdir(parents=True, exist_ok=True)\n",
    "\n",
    "# Process each category\n",
    "for folder in source_folders:\n",
    "    # Get all files in current folder\n",
    "    files = os.listdir(folder)\n",
    "    \n",
    "    # Randomly shuffle files\n",
    "    random.shuffle(files)\n",
    "    \n",
    "    # Calculate split point\n",
    "    split_point = int(len(files) * split_ratio)\n",
    "    \n",
    "    # Distribute files to train/val folders\n",
    "    for idx, file in enumerate(files):\n",
    "        src = os.path.join(folder, file)\n",
    "        if idx < split_point:\n",
    "            dst = os.path.join('train', folder, file)\n",
    "        else:\n",
    "            dst = os.path.join('val', folder, file)\n",
    "        shutil.copy2(src, dst)\n",
    "\n",
    "print(\"Dataset split completed\")"
   ]
  },
  {
   "cell_type": "code",
   "execution_count": null,
   "metadata": {},
   "outputs": [],
   "source": [
    "\n"
   ]
  },
  {
   "cell_type": "code",
   "execution_count": null,
   "metadata": {},
   "outputs": [],
   "source": []
  }
 ],
 "metadata": {
  "kernelspec": {
   "display_name": "extra_info",
   "language": "python",
   "name": "python3"
  },
  "language_info": {
   "codemirror_mode": {
    "name": "ipython",
    "version": 3
   },
   "file_extension": ".py",
   "mimetype": "text/x-python",
   "name": "python",
   "nbconvert_exporter": "python",
   "pygments_lexer": "ipython3",
   "version": "3.12.2"
  }
 },
 "nbformat": 4,
 "nbformat_minor": 2
}
