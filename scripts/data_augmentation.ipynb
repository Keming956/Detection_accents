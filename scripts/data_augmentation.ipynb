{
 "cells": [
  {
   "cell_type": "code",
   "execution_count": 4,
   "metadata": {},
   "outputs": [
    {
     "name": "stderr",
     "output_type": "stream",
     "text": [
      "Traitement des images de england: 100%|██████████| 88/88 [01:12<00:00,  1.21it/s]\n"
     ]
    },
    {
     "name": "stdout",
     "output_type": "stream",
     "text": [
      "Traitement terminé pour england\n"
     ]
    },
    {
     "name": "stderr",
     "output_type": "stream",
     "text": [
      "Traitement des images de india: 100%|██████████| 146/146 [01:08<00:00,  2.14it/s]\n"
     ]
    },
    {
     "name": "stdout",
     "output_type": "stream",
     "text": [
      "Traitement terminé pour india\n"
     ]
    },
    {
     "name": "stderr",
     "output_type": "stream",
     "text": [
      "Traitement des images de usa: 100%|██████████| 245/245 [02:24<00:00,  1.70it/s]"
     ]
    },
    {
     "name": "stdout",
     "output_type": "stream",
     "text": [
      "Traitement terminé pour usa\n"
     ]
    },
    {
     "name": "stderr",
     "output_type": "stream",
     "text": [
      "\n"
     ]
    }
   ],
   "source": [
    "import cv2\n",
    "import numpy as np\n",
    "import os\n",
    "from tqdm import tqdm\n",
    "\n",
    "def add_gaussian_noise(image, mean=0, std_dev=25):\n",
    "    \"\"\"Ajouter du bruit gaussien à l'image\"\"\"\n",
    "    gaussian_noise = np.random.normal(mean, std_dev, image.shape).astype(np.float32)\n",
    "    noisy_img = image.astype(np.float32) + gaussian_noise\n",
    "    return np.clip(noisy_img, 0, 255).astype(np.uint8)\n",
    "\n",
    "def process_country_folder(country_folder):\n",
    "    \"\"\"Traiter les images dans le dossier du pays\"\"\"\n",
    "    input_path = os.path.join(\"./val\", country_folder)\n",
    "    output_path = os.path.join(\"./val/noisy\", country_folder)\n",
    "    \n",
    "    # Créer le dossier de sortie\n",
    "    os.makedirs(output_path, exist_ok=True)\n",
    "    \n",
    "    # Obtenir tous les fichiers PNG\n",
    "    image_files = [f for f in os.listdir(input_path) if f.endswith('.png')]\n",
    "    \n",
    "    for image_name in tqdm(image_files, desc=f\"Traitement des images de {country_folder}\"):\n",
    "        input_file = os.path.join(input_path, image_name)\n",
    "        output_file = os.path.join(output_path, f\"noisy_{image_name}\")\n",
    "        \n",
    "        try:\n",
    "            img = cv2.imread(input_file, cv2.IMREAD_COLOR)\n",
    "            if img is None:\n",
    "                raise ValueError(f\"Impossible de charger l'image: {input_file}\")\n",
    "            \n",
    "            noisy_img = add_gaussian_noise(img)\n",
    "            cv2.imwrite(output_file, noisy_img)\n",
    "            \n",
    "        except Exception as e:\n",
    "            print(f\"Erreur lors du traitement de {image_name}: {str(e)}\")\n",
    "            continue\n",
    "\n",
    "def main():\n",
    "    \"\"\"Fonction principale\"\"\"\n",
    "    countries = ['england', 'india', 'usa']\n",
    "    \n",
    "    # Créer le dossier principal de sortie\n",
    "    main_output = \"./val/noisy\"\n",
    "    os.makedirs(main_output, exist_ok=True)\n",
    "    \n",
    "    for country in countries:\n",
    "        process_country_folder(country)\n",
    "        print(f\"Traitement terminé pour {country}\")\n",
    "\n",
    "if __name__ == \"__main__\":\n",
    "    main()"
   ]
  },
  {
   "cell_type": "code",
   "execution_count": null,
   "metadata": {},
   "outputs": [],
   "source": []
  }
 ],
 "metadata": {
  "kernelspec": {
   "display_name": "extra_info",
   "language": "python",
   "name": "python3"
  },
  "language_info": {
   "codemirror_mode": {
    "name": "ipython",
    "version": 3
   },
   "file_extension": ".py",
   "mimetype": "text/x-python",
   "name": "python",
   "nbconvert_exporter": "python",
   "pygments_lexer": "ipython3",
   "version": "3.12.2"
  }
 },
 "nbformat": 4,
 "nbformat_minor": 2
}
