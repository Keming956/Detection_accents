{
  "cells": [
    {
      "cell_type": "code",
      "execution_count": 38,
      "metadata": {
        "colab": {
          "base_uri": "https://localhost:8080/"
        },
        "id": "R9k6XMgYJZjV",
        "outputId": "606b2297-4f51-49f0-831c-d0863e3f858d"
      },
      "outputs": [
        {
          "name": "stdout",
          "output_type": "stream",
          "text": [
            "Drive already mounted at /content/gdrive; to attempt to forcibly remount, call drive.mount(\"/content/gdrive\", force_remount=True).\n"
          ]
        }
      ],
      "source": [
        "from google.colab import drive\n",
        "drive.mount('/content/gdrive')"
      ]
    },
    {
      "cell_type": "code",
      "execution_count": 39,
      "metadata": {
        "colab": {
          "base_uri": "https://localhost:8080/"
        },
        "id": "WE_ZD2Y9Je4H",
        "outputId": "02bdefd7-36d2-40f1-c900-837ff43baf84"
      },
      "outputs": [
        {
          "name": "stdout",
          "output_type": "stream",
          "text": [
            "england  india\tusa\n"
          ]
        }
      ],
      "source": [
        "!ls \"/content/gdrive/MyDrive/dataset/train\""
      ]
    },
    {
      "cell_type": "code",
      "execution_count": 40,
      "metadata": {
        "id": "T1fyqrK2JgWm"
      },
      "outputs": [],
      "source": [
        "from __future__ import print_function\n",
        "import numpy as np\n",
        "from tensorflow.keras.utils import to_categorical\n",
        "from sklearn.model_selection import train_test_split\n",
        "import numpy as np\n",
        "import cv2\n",
        "from tensorflow.keras.models import Sequential\n",
        "from tensorflow.keras.layers import Input, Dense, Dropout, Flatten, Conv2D, MaxPooling2D\n",
        "from tensorflow.keras.utils import to_categorical\n",
        "from tensorflow.keras.optimizers import Adam\n",
        "from tensorflow.keras.losses import categorical_crossentropy\n",
        "from tensorflow.keras.callbacks import EarlyStopping, ModelCheckpoint\n",
        "from sklearn.model_selection import train_test_split\n",
        "import glob\n",
        "import matplotlib.pyplot as plt\n",
        "import pandas as pd\n",
        "import seaborn as sns\n",
        "from sklearn.metrics import confusion_matrix\n",
        "from tensorflow.keras.callbacks import LearningRateScheduler\n"
      ]
    },
    {
      "cell_type": "code",
      "execution_count": 41,
      "metadata": {
        "id": "P_lckPwkJgzg"
      },
      "outputs": [],
      "source": [
        "def load_image_data(paths, label_dict, img_rows=150, img_cols=25):\n",
        "    \"\"\"\n",
        "    Loads images and labels from specified paths.\n",
        "\n",
        "    Parameters:\n",
        "        paths (list): List of paths where the images are located.\n",
        "        label_dict (dict): Dictionary mapping folder names to class indices.\n",
        "        img_rows (int): Target height of the images.\n",
        "        img_cols (int): Target width of the images.\n",
        "\n",
        "    Returns:\n",
        "        tuple: Tuple containing:\n",
        "            - x_data (numpy.ndarray): Array of processed images.\n",
        "            - y_data (numpy.ndarray): Array of one-hot encoded labels.\n",
        "    \"\"\"\n",
        "    x_data = []\n",
        "    y_data = []\n",
        "\n",
        "    for path in paths:\n",
        "        for image_path in glob.glob(path):\n",
        "            img = cv2.imread(image_path, cv2.IMREAD_GRAYSCALE)\n",
        "            if img is not None:\n",
        "                img_resized = cv2.resize(img, (img_rows, img_cols))\n",
        "                x_data.append(img_resized)\n",
        "                # Extract the label from the folder structure\n",
        "                label = image_path.split('/')[-2]  #Get label\n",
        "                y_data.append(label_dict.get(label, -1))\n",
        "            else:\n",
        "                print(f\"Failed to load image: {image_path}\")\n",
        "\n",
        "    x_data = np.array(x_data).reshape(-1, img_rows, img_cols, 1)\n",
        "    x_data = x_data.astype('float32') / 255\n",
        "    y_data = to_categorical(y_data, len(label_dict))\n",
        "\n",
        "    return x_data, y_data\n"
      ]
    },
    {
      "cell_type": "code",
      "execution_count": 42,
      "metadata": {
        "id": "RUDvDEbgJiem"
      },
      "outputs": [],
      "source": [
        "# Define paths and label dictionary\n",
        "val_paths = [\n",
        "    \"/content/gdrive/MyDrive/dataset/val/england/*\",\n",
        "    \"/content/gdrive/MyDrive/dataset/val/india/*\",\n",
        "    \"/content/gdrive/MyDrive/dataset/val/usa/*\"\n",
        "]\n",
        "\n",
        "train_paths = [\n",
        "    \"/content/gdrive/MyDrive/dataset/train/england/*\",\n",
        "    \"/content/gdrive/MyDrive/dataset/train/india/*\",\n",
        "    \"/content/gdrive/MyDrive/dataset/train/usa/*\"\n",
        "]\n",
        "\n",
        "dico_labels = {\n",
        "    'england': 0,\n",
        "    'india': 1,\n",
        "    'usa': 2\n",
        "}\n",
        "\n",
        "# Load validation data\n",
        "x_val, y_val = load_image_data(val_paths, dico_labels)\n",
        "\n",
        "# Load train data\n",
        "x_train, y_train = load_image_data(train_paths, dico_labels)\n"
      ]
    },
    {
      "cell_type": "code",
      "execution_count": 43,
      "metadata": {
        "colab": {
          "base_uri": "https://localhost:8080/"
        },
        "id": "sWzS-_YVQB1E",
        "outputId": "01ae6c18-67fd-4c8b-c227-0a4d71dd87ab"
      },
      "outputs": [
        {
          "name": "stdout",
          "output_type": "stream",
          "text": [
            "Number of samples per class: [348. 581. 976.]\n"
          ]
        }
      ],
      "source": [
        "# Count the number of samples per class\n",
        "class_counts = np.sum(y_train, axis=0)\n",
        "print(\"Number of samples per class:\", class_counts)"
      ]
    },
    {
      "cell_type": "code",
      "execution_count": 44,
      "metadata": {
        "colab": {
          "base_uri": "https://localhost:8080/"
        },
        "id": "GYc-T8049pd5",
        "outputId": "c070e3de-f79f-49c2-9d86-84cba2fc7738"
      },
      "outputs": [
        {
          "name": "stdout",
          "output_type": "stream",
          "text": [
            "Number of samples per class: [ 88. 146. 245.]\n"
          ]
        }
      ],
      "source": [
        "class_counts = np.sum(y_val, axis=0)\n",
        "print(\"Number of samples per class:\", class_counts)"
      ]
    },
    {
      "cell_type": "code",
      "execution_count": 45,
      "metadata": {
        "id": "-9VtHAfOKfo1"
      },
      "outputs": [],
      "source": [
        "# Model definition\n",
        "from tensorflow.keras.regularizers import l2\n",
        "\n",
        "\n",
        "from tensorflow.keras.optimizers import Adam\n",
        "from tensorflow.keras.models import Sequential\n",
        "from tensorflow.keras.layers import Conv2D, MaxPooling2D, Flatten, Dense, Dropout, Input\n",
        "from tensorflow.keras.layers import BatchNormalization\n",
        "from tensorflow.keras.callbacks import ReduceLROnPlateau, EarlyStopping, ModelCheckpoint\n",
        "from tensorflow.keras.optimizers import AdamW\n",
        "\n",
        "def build_model(input_shape, num_classes):\n",
        "    model = Sequential([\n",
        "        Input(shape=input_shape),\n",
        "\n",
        "        Conv2D(32, kernel_size=(3, 3), activation='relu', kernel_regularizer=l2(0.01)),\n",
        "        BatchNormalization(),\n",
        "        MaxPooling2D(pool_size=(2, 2)),\n",
        "        Dropout(0.25),\n",
        "\n",
        "        Conv2D(64, (3, 3), activation='relu', kernel_regularizer=l2(0.01)),\n",
        "        BatchNormalization(),\n",
        "        MaxPooling2D(pool_size=(2, 2)),\n",
        "        Dropout(0.25),\n",
        "\n",
        "        Conv2D(128, (3, 3), activation='relu', kernel_regularizer=l2(0.01)),\n",
        "        BatchNormalization(),\n",
        "        MaxPooling2D(pool_size=(2, 2)),\n",
        "        Dropout(0.25),\n",
        "\n",
        "        # Additional Conv2D layer for deeper feature extraction\n",
        "        Conv2D(256, (3, 1), activation='relu', kernel_regularizer=l2(0.01)),\n",
        "        BatchNormalization(),\n",
        "        Dropout(0.25),\n",
        "\n",
        "        Flatten(),\n",
        "        Dense(128, activation='relu', kernel_regularizer=l2(0.01)),\n",
        "        Dropout(0.5),\n",
        "        Dense(num_classes, activation='softmax')\n",
        "    ])\n",
        "\n",
        "    optimizer = AdamW(learning_rate=0.001, weight_decay=1e-5)\n",
        "\n",
        "    model.compile(\n",
        "        optimizer=optimizer,\n",
        "        loss='categorical_crossentropy',\n",
        "        metrics=['accuracy']\n",
        "    )\n",
        "    return model\n",
        "\n",
        "input_shape = (150, 25, 1)\n",
        "num_classes = 3\n",
        "\n",
        "es = EarlyStopping(monitor='val_loss', mode='min', verbose=1, patience=20)\n",
        "mc = ModelCheckpoint('./gdrive/MyDrive/cnn/accent_model.keras',\n",
        "                     monitor='val_loss',\n",
        "                     mode='min',\n",
        "                     verbose=1,\n",
        "                     save_best_only=True)\n",
        "lr_scheduler = ReduceLROnPlateau(monitor='val_loss',\n",
        "                                 factor=0.1,\n",
        "                                 patience=3,\n",
        "                                 min_lr=1e-6)"
      ]
    },
    {
      "cell_type": "code",
      "execution_count": 46,
      "metadata": {
        "colab": {
          "base_uri": "https://localhost:8080/"
        },
        "id": "QnzbphBPL6_Y",
        "outputId": "33bbf315-54c5-47f6-b44c-831c07e3a51e"
      },
      "outputs": [
        {
          "name": "stdout",
          "output_type": "stream",
          "text": [
            "Requirement already satisfied: scikit-learn in /usr/local/lib/python3.10/dist-packages (1.6.0)\n",
            "Requirement already satisfied: numpy>=1.19.5 in /usr/local/lib/python3.10/dist-packages (from scikit-learn) (1.26.4)\n",
            "Requirement already satisfied: scipy>=1.6.0 in /usr/local/lib/python3.10/dist-packages (from scikit-learn) (1.13.1)\n",
            "Requirement already satisfied: joblib>=1.2.0 in /usr/local/lib/python3.10/dist-packages (from scikit-learn) (1.4.2)\n",
            "Requirement already satisfied: threadpoolctl>=3.1.0 in /usr/local/lib/python3.10/dist-packages (from scikit-learn) (3.5.0)\n"
          ]
        }
      ],
      "source": [
        "pip install scikit-learn"
      ]
    },
    {
      "cell_type": "code",
      "execution_count": 47,
      "metadata": {
        "id": "-iPDbpGQUHey"
      },
      "outputs": [],
      "source": [
        "from sklearn.utils.class_weight import compute_class_weight\n",
        "\n",
        "\n",
        "class_labels = np.array([0, 1, 2])\n",
        "y_integers = np.argmax(y_train, axis=1)  # Convert one-hot encoded labels to integers\n",
        "\n",
        "# Compute class weights\n",
        "class_weights = compute_class_weight('balanced', classes=class_labels, y=y_integers)\n",
        "class_weight_dict = dict(enumerate(class_weights))\n"
      ]
    },
    {
      "cell_type": "code",
      "execution_count": 52,
      "metadata": {
        "colab": {
          "base_uri": "https://localhost:8080/",
          "height": 804
        },
        "id": "5_QGm3XifVVl",
        "outputId": "7e22844e-fc21-4f6a-eb13-16a34f0301a6"
      },
      "outputs": [
        {
          "data": {
            "text/html": [
              "<pre style=\"white-space:pre;overflow-x:auto;line-height:normal;font-family:Menlo,'DejaVu Sans Mono',consolas,'Courier New',monospace\"><span style=\"font-weight: bold\">Model: \"sequential_2\"</span>\n",
              "</pre>\n"
            ],
            "text/plain": [
              "\u001b[1mModel: \"sequential_2\"\u001b[0m\n"
            ]
          },
          "metadata": {},
          "output_type": "display_data"
        },
        {
          "data": {
            "text/html": [
              "<pre style=\"white-space:pre;overflow-x:auto;line-height:normal;font-family:Menlo,'DejaVu Sans Mono',consolas,'Courier New',monospace\">┏━━━━━━━━━━━━━━━━━━━━━━━━━━━━━━━━━━━━━━┳━━━━━━━━━━━━━━━━━━━━━━━━━━━━━┳━━━━━━━━━━━━━━━━━┓\n",
              "┃<span style=\"font-weight: bold\"> Layer (type)                         </span>┃<span style=\"font-weight: bold\"> Output Shape                </span>┃<span style=\"font-weight: bold\">         Param # </span>┃\n",
              "┡━━━━━━━━━━━━━━━━━━━━━━━━━━━━━━━━━━━━━━╇━━━━━━━━━━━━━━━━━━━━━━━━━━━━━╇━━━━━━━━━━━━━━━━━┩\n",
              "│ conv2d_8 (<span style=\"color: #0087ff; text-decoration-color: #0087ff\">Conv2D</span>)                    │ (<span style=\"color: #00d7ff; text-decoration-color: #00d7ff\">None</span>, <span style=\"color: #00af00; text-decoration-color: #00af00\">148</span>, <span style=\"color: #00af00; text-decoration-color: #00af00\">23</span>, <span style=\"color: #00af00; text-decoration-color: #00af00\">32</span>)         │             <span style=\"color: #00af00; text-decoration-color: #00af00\">320</span> │\n",
              "├──────────────────────────────────────┼─────────────────────────────┼─────────────────┤\n",
              "│ batch_normalization_8                │ (<span style=\"color: #00d7ff; text-decoration-color: #00d7ff\">None</span>, <span style=\"color: #00af00; text-decoration-color: #00af00\">148</span>, <span style=\"color: #00af00; text-decoration-color: #00af00\">23</span>, <span style=\"color: #00af00; text-decoration-color: #00af00\">32</span>)         │             <span style=\"color: #00af00; text-decoration-color: #00af00\">128</span> │\n",
              "│ (<span style=\"color: #0087ff; text-decoration-color: #0087ff\">BatchNormalization</span>)                 │                             │                 │\n",
              "├──────────────────────────────────────┼─────────────────────────────┼─────────────────┤\n",
              "│ max_pooling2d_6 (<span style=\"color: #0087ff; text-decoration-color: #0087ff\">MaxPooling2D</span>)       │ (<span style=\"color: #00d7ff; text-decoration-color: #00d7ff\">None</span>, <span style=\"color: #00af00; text-decoration-color: #00af00\">74</span>, <span style=\"color: #00af00; text-decoration-color: #00af00\">11</span>, <span style=\"color: #00af00; text-decoration-color: #00af00\">32</span>)          │               <span style=\"color: #00af00; text-decoration-color: #00af00\">0</span> │\n",
              "├──────────────────────────────────────┼─────────────────────────────┼─────────────────┤\n",
              "│ dropout_10 (<span style=\"color: #0087ff; text-decoration-color: #0087ff\">Dropout</span>)                 │ (<span style=\"color: #00d7ff; text-decoration-color: #00d7ff\">None</span>, <span style=\"color: #00af00; text-decoration-color: #00af00\">74</span>, <span style=\"color: #00af00; text-decoration-color: #00af00\">11</span>, <span style=\"color: #00af00; text-decoration-color: #00af00\">32</span>)          │               <span style=\"color: #00af00; text-decoration-color: #00af00\">0</span> │\n",
              "├──────────────────────────────────────┼─────────────────────────────┼─────────────────┤\n",
              "│ conv2d_9 (<span style=\"color: #0087ff; text-decoration-color: #0087ff\">Conv2D</span>)                    │ (<span style=\"color: #00d7ff; text-decoration-color: #00d7ff\">None</span>, <span style=\"color: #00af00; text-decoration-color: #00af00\">72</span>, <span style=\"color: #00af00; text-decoration-color: #00af00\">9</span>, <span style=\"color: #00af00; text-decoration-color: #00af00\">64</span>)           │          <span style=\"color: #00af00; text-decoration-color: #00af00\">18,496</span> │\n",
              "├──────────────────────────────────────┼─────────────────────────────┼─────────────────┤\n",
              "│ batch_normalization_9                │ (<span style=\"color: #00d7ff; text-decoration-color: #00d7ff\">None</span>, <span style=\"color: #00af00; text-decoration-color: #00af00\">72</span>, <span style=\"color: #00af00; text-decoration-color: #00af00\">9</span>, <span style=\"color: #00af00; text-decoration-color: #00af00\">64</span>)           │             <span style=\"color: #00af00; text-decoration-color: #00af00\">256</span> │\n",
              "│ (<span style=\"color: #0087ff; text-decoration-color: #0087ff\">BatchNormalization</span>)                 │                             │                 │\n",
              "├──────────────────────────────────────┼─────────────────────────────┼─────────────────┤\n",
              "│ max_pooling2d_7 (<span style=\"color: #0087ff; text-decoration-color: #0087ff\">MaxPooling2D</span>)       │ (<span style=\"color: #00d7ff; text-decoration-color: #00d7ff\">None</span>, <span style=\"color: #00af00; text-decoration-color: #00af00\">36</span>, <span style=\"color: #00af00; text-decoration-color: #00af00\">4</span>, <span style=\"color: #00af00; text-decoration-color: #00af00\">64</span>)           │               <span style=\"color: #00af00; text-decoration-color: #00af00\">0</span> │\n",
              "├──────────────────────────────────────┼─────────────────────────────┼─────────────────┤\n",
              "│ dropout_11 (<span style=\"color: #0087ff; text-decoration-color: #0087ff\">Dropout</span>)                 │ (<span style=\"color: #00d7ff; text-decoration-color: #00d7ff\">None</span>, <span style=\"color: #00af00; text-decoration-color: #00af00\">36</span>, <span style=\"color: #00af00; text-decoration-color: #00af00\">4</span>, <span style=\"color: #00af00; text-decoration-color: #00af00\">64</span>)           │               <span style=\"color: #00af00; text-decoration-color: #00af00\">0</span> │\n",
              "├──────────────────────────────────────┼─────────────────────────────┼─────────────────┤\n",
              "│ conv2d_10 (<span style=\"color: #0087ff; text-decoration-color: #0087ff\">Conv2D</span>)                   │ (<span style=\"color: #00d7ff; text-decoration-color: #00d7ff\">None</span>, <span style=\"color: #00af00; text-decoration-color: #00af00\">34</span>, <span style=\"color: #00af00; text-decoration-color: #00af00\">2</span>, <span style=\"color: #00af00; text-decoration-color: #00af00\">128</span>)          │          <span style=\"color: #00af00; text-decoration-color: #00af00\">73,856</span> │\n",
              "├──────────────────────────────────────┼─────────────────────────────┼─────────────────┤\n",
              "│ batch_normalization_10               │ (<span style=\"color: #00d7ff; text-decoration-color: #00d7ff\">None</span>, <span style=\"color: #00af00; text-decoration-color: #00af00\">34</span>, <span style=\"color: #00af00; text-decoration-color: #00af00\">2</span>, <span style=\"color: #00af00; text-decoration-color: #00af00\">128</span>)          │             <span style=\"color: #00af00; text-decoration-color: #00af00\">512</span> │\n",
              "│ (<span style=\"color: #0087ff; text-decoration-color: #0087ff\">BatchNormalization</span>)                 │                             │                 │\n",
              "├──────────────────────────────────────┼─────────────────────────────┼─────────────────┤\n",
              "│ max_pooling2d_8 (<span style=\"color: #0087ff; text-decoration-color: #0087ff\">MaxPooling2D</span>)       │ (<span style=\"color: #00d7ff; text-decoration-color: #00d7ff\">None</span>, <span style=\"color: #00af00; text-decoration-color: #00af00\">17</span>, <span style=\"color: #00af00; text-decoration-color: #00af00\">1</span>, <span style=\"color: #00af00; text-decoration-color: #00af00\">128</span>)          │               <span style=\"color: #00af00; text-decoration-color: #00af00\">0</span> │\n",
              "├──────────────────────────────────────┼─────────────────────────────┼─────────────────┤\n",
              "│ dropout_12 (<span style=\"color: #0087ff; text-decoration-color: #0087ff\">Dropout</span>)                 │ (<span style=\"color: #00d7ff; text-decoration-color: #00d7ff\">None</span>, <span style=\"color: #00af00; text-decoration-color: #00af00\">17</span>, <span style=\"color: #00af00; text-decoration-color: #00af00\">1</span>, <span style=\"color: #00af00; text-decoration-color: #00af00\">128</span>)          │               <span style=\"color: #00af00; text-decoration-color: #00af00\">0</span> │\n",
              "├──────────────────────────────────────┼─────────────────────────────┼─────────────────┤\n",
              "│ conv2d_11 (<span style=\"color: #0087ff; text-decoration-color: #0087ff\">Conv2D</span>)                   │ (<span style=\"color: #00d7ff; text-decoration-color: #00d7ff\">None</span>, <span style=\"color: #00af00; text-decoration-color: #00af00\">15</span>, <span style=\"color: #00af00; text-decoration-color: #00af00\">1</span>, <span style=\"color: #00af00; text-decoration-color: #00af00\">256</span>)          │          <span style=\"color: #00af00; text-decoration-color: #00af00\">98,560</span> │\n",
              "├──────────────────────────────────────┼─────────────────────────────┼─────────────────┤\n",
              "│ batch_normalization_11               │ (<span style=\"color: #00d7ff; text-decoration-color: #00d7ff\">None</span>, <span style=\"color: #00af00; text-decoration-color: #00af00\">15</span>, <span style=\"color: #00af00; text-decoration-color: #00af00\">1</span>, <span style=\"color: #00af00; text-decoration-color: #00af00\">256</span>)          │           <span style=\"color: #00af00; text-decoration-color: #00af00\">1,024</span> │\n",
              "│ (<span style=\"color: #0087ff; text-decoration-color: #0087ff\">BatchNormalization</span>)                 │                             │                 │\n",
              "├──────────────────────────────────────┼─────────────────────────────┼─────────────────┤\n",
              "│ dropout_13 (<span style=\"color: #0087ff; text-decoration-color: #0087ff\">Dropout</span>)                 │ (<span style=\"color: #00d7ff; text-decoration-color: #00d7ff\">None</span>, <span style=\"color: #00af00; text-decoration-color: #00af00\">15</span>, <span style=\"color: #00af00; text-decoration-color: #00af00\">1</span>, <span style=\"color: #00af00; text-decoration-color: #00af00\">256</span>)          │               <span style=\"color: #00af00; text-decoration-color: #00af00\">0</span> │\n",
              "├──────────────────────────────────────┼─────────────────────────────┼─────────────────┤\n",
              "│ flatten_2 (<span style=\"color: #0087ff; text-decoration-color: #0087ff\">Flatten</span>)                  │ (<span style=\"color: #00d7ff; text-decoration-color: #00d7ff\">None</span>, <span style=\"color: #00af00; text-decoration-color: #00af00\">3840</span>)                │               <span style=\"color: #00af00; text-decoration-color: #00af00\">0</span> │\n",
              "├──────────────────────────────────────┼─────────────────────────────┼─────────────────┤\n",
              "│ dense_4 (<span style=\"color: #0087ff; text-decoration-color: #0087ff\">Dense</span>)                      │ (<span style=\"color: #00d7ff; text-decoration-color: #00d7ff\">None</span>, <span style=\"color: #00af00; text-decoration-color: #00af00\">128</span>)                 │         <span style=\"color: #00af00; text-decoration-color: #00af00\">491,648</span> │\n",
              "├──────────────────────────────────────┼─────────────────────────────┼─────────────────┤\n",
              "│ dropout_14 (<span style=\"color: #0087ff; text-decoration-color: #0087ff\">Dropout</span>)                 │ (<span style=\"color: #00d7ff; text-decoration-color: #00d7ff\">None</span>, <span style=\"color: #00af00; text-decoration-color: #00af00\">128</span>)                 │               <span style=\"color: #00af00; text-decoration-color: #00af00\">0</span> │\n",
              "├──────────────────────────────────────┼─────────────────────────────┼─────────────────┤\n",
              "│ dense_5 (<span style=\"color: #0087ff; text-decoration-color: #0087ff\">Dense</span>)                      │ (<span style=\"color: #00d7ff; text-decoration-color: #00d7ff\">None</span>, <span style=\"color: #00af00; text-decoration-color: #00af00\">3</span>)                   │             <span style=\"color: #00af00; text-decoration-color: #00af00\">387</span> │\n",
              "└──────────────────────────────────────┴─────────────────────────────┴─────────────────┘\n",
              "</pre>\n"
            ],
            "text/plain": [
              "┏━━━━━━━━━━━━━━━━━━━━━━━━━━━━━━━━━━━━━━┳━━━━━━━━━━━━━━━━━━━━━━━━━━━━━┳━━━━━━━━━━━━━━━━━┓\n",
              "┃\u001b[1m \u001b[0m\u001b[1mLayer (type)                        \u001b[0m\u001b[1m \u001b[0m┃\u001b[1m \u001b[0m\u001b[1mOutput Shape               \u001b[0m\u001b[1m \u001b[0m┃\u001b[1m \u001b[0m\u001b[1m        Param #\u001b[0m\u001b[1m \u001b[0m┃\n",
              "┡━━━━━━━━━━━━━━━━━━━━━━━━━━━━━━━━━━━━━━╇━━━━━━━━━━━━━━━━━━━━━━━━━━━━━╇━━━━━━━━━━━━━━━━━┩\n",
              "│ conv2d_8 (\u001b[38;5;33mConv2D\u001b[0m)                    │ (\u001b[38;5;45mNone\u001b[0m, \u001b[38;5;34m148\u001b[0m, \u001b[38;5;34m23\u001b[0m, \u001b[38;5;34m32\u001b[0m)         │             \u001b[38;5;34m320\u001b[0m │\n",
              "├──────────────────────────────────────┼─────────────────────────────┼─────────────────┤\n",
              "│ batch_normalization_8                │ (\u001b[38;5;45mNone\u001b[0m, \u001b[38;5;34m148\u001b[0m, \u001b[38;5;34m23\u001b[0m, \u001b[38;5;34m32\u001b[0m)         │             \u001b[38;5;34m128\u001b[0m │\n",
              "│ (\u001b[38;5;33mBatchNormalization\u001b[0m)                 │                             │                 │\n",
              "├──────────────────────────────────────┼─────────────────────────────┼─────────────────┤\n",
              "│ max_pooling2d_6 (\u001b[38;5;33mMaxPooling2D\u001b[0m)       │ (\u001b[38;5;45mNone\u001b[0m, \u001b[38;5;34m74\u001b[0m, \u001b[38;5;34m11\u001b[0m, \u001b[38;5;34m32\u001b[0m)          │               \u001b[38;5;34m0\u001b[0m │\n",
              "├──────────────────────────────────────┼─────────────────────────────┼─────────────────┤\n",
              "│ dropout_10 (\u001b[38;5;33mDropout\u001b[0m)                 │ (\u001b[38;5;45mNone\u001b[0m, \u001b[38;5;34m74\u001b[0m, \u001b[38;5;34m11\u001b[0m, \u001b[38;5;34m32\u001b[0m)          │               \u001b[38;5;34m0\u001b[0m │\n",
              "├──────────────────────────────────────┼─────────────────────────────┼─────────────────┤\n",
              "│ conv2d_9 (\u001b[38;5;33mConv2D\u001b[0m)                    │ (\u001b[38;5;45mNone\u001b[0m, \u001b[38;5;34m72\u001b[0m, \u001b[38;5;34m9\u001b[0m, \u001b[38;5;34m64\u001b[0m)           │          \u001b[38;5;34m18,496\u001b[0m │\n",
              "├──────────────────────────────────────┼─────────────────────────────┼─────────────────┤\n",
              "│ batch_normalization_9                │ (\u001b[38;5;45mNone\u001b[0m, \u001b[38;5;34m72\u001b[0m, \u001b[38;5;34m9\u001b[0m, \u001b[38;5;34m64\u001b[0m)           │             \u001b[38;5;34m256\u001b[0m │\n",
              "│ (\u001b[38;5;33mBatchNormalization\u001b[0m)                 │                             │                 │\n",
              "├──────────────────────────────────────┼─────────────────────────────┼─────────────────┤\n",
              "│ max_pooling2d_7 (\u001b[38;5;33mMaxPooling2D\u001b[0m)       │ (\u001b[38;5;45mNone\u001b[0m, \u001b[38;5;34m36\u001b[0m, \u001b[38;5;34m4\u001b[0m, \u001b[38;5;34m64\u001b[0m)           │               \u001b[38;5;34m0\u001b[0m │\n",
              "├──────────────────────────────────────┼─────────────────────────────┼─────────────────┤\n",
              "│ dropout_11 (\u001b[38;5;33mDropout\u001b[0m)                 │ (\u001b[38;5;45mNone\u001b[0m, \u001b[38;5;34m36\u001b[0m, \u001b[38;5;34m4\u001b[0m, \u001b[38;5;34m64\u001b[0m)           │               \u001b[38;5;34m0\u001b[0m │\n",
              "├──────────────────────────────────────┼─────────────────────────────┼─────────────────┤\n",
              "│ conv2d_10 (\u001b[38;5;33mConv2D\u001b[0m)                   │ (\u001b[38;5;45mNone\u001b[0m, \u001b[38;5;34m34\u001b[0m, \u001b[38;5;34m2\u001b[0m, \u001b[38;5;34m128\u001b[0m)          │          \u001b[38;5;34m73,856\u001b[0m │\n",
              "├──────────────────────────────────────┼─────────────────────────────┼─────────────────┤\n",
              "│ batch_normalization_10               │ (\u001b[38;5;45mNone\u001b[0m, \u001b[38;5;34m34\u001b[0m, \u001b[38;5;34m2\u001b[0m, \u001b[38;5;34m128\u001b[0m)          │             \u001b[38;5;34m512\u001b[0m │\n",
              "│ (\u001b[38;5;33mBatchNormalization\u001b[0m)                 │                             │                 │\n",
              "├──────────────────────────────────────┼─────────────────────────────┼─────────────────┤\n",
              "│ max_pooling2d_8 (\u001b[38;5;33mMaxPooling2D\u001b[0m)       │ (\u001b[38;5;45mNone\u001b[0m, \u001b[38;5;34m17\u001b[0m, \u001b[38;5;34m1\u001b[0m, \u001b[38;5;34m128\u001b[0m)          │               \u001b[38;5;34m0\u001b[0m │\n",
              "├──────────────────────────────────────┼─────────────────────────────┼─────────────────┤\n",
              "│ dropout_12 (\u001b[38;5;33mDropout\u001b[0m)                 │ (\u001b[38;5;45mNone\u001b[0m, \u001b[38;5;34m17\u001b[0m, \u001b[38;5;34m1\u001b[0m, \u001b[38;5;34m128\u001b[0m)          │               \u001b[38;5;34m0\u001b[0m │\n",
              "├──────────────────────────────────────┼─────────────────────────────┼─────────────────┤\n",
              "│ conv2d_11 (\u001b[38;5;33mConv2D\u001b[0m)                   │ (\u001b[38;5;45mNone\u001b[0m, \u001b[38;5;34m15\u001b[0m, \u001b[38;5;34m1\u001b[0m, \u001b[38;5;34m256\u001b[0m)          │          \u001b[38;5;34m98,560\u001b[0m │\n",
              "├──────────────────────────────────────┼─────────────────────────────┼─────────────────┤\n",
              "│ batch_normalization_11               │ (\u001b[38;5;45mNone\u001b[0m, \u001b[38;5;34m15\u001b[0m, \u001b[38;5;34m1\u001b[0m, \u001b[38;5;34m256\u001b[0m)          │           \u001b[38;5;34m1,024\u001b[0m │\n",
              "│ (\u001b[38;5;33mBatchNormalization\u001b[0m)                 │                             │                 │\n",
              "├──────────────────────────────────────┼─────────────────────────────┼─────────────────┤\n",
              "│ dropout_13 (\u001b[38;5;33mDropout\u001b[0m)                 │ (\u001b[38;5;45mNone\u001b[0m, \u001b[38;5;34m15\u001b[0m, \u001b[38;5;34m1\u001b[0m, \u001b[38;5;34m256\u001b[0m)          │               \u001b[38;5;34m0\u001b[0m │\n",
              "├──────────────────────────────────────┼─────────────────────────────┼─────────────────┤\n",
              "│ flatten_2 (\u001b[38;5;33mFlatten\u001b[0m)                  │ (\u001b[38;5;45mNone\u001b[0m, \u001b[38;5;34m3840\u001b[0m)                │               \u001b[38;5;34m0\u001b[0m │\n",
              "├──────────────────────────────────────┼─────────────────────────────┼─────────────────┤\n",
              "│ dense_4 (\u001b[38;5;33mDense\u001b[0m)                      │ (\u001b[38;5;45mNone\u001b[0m, \u001b[38;5;34m128\u001b[0m)                 │         \u001b[38;5;34m491,648\u001b[0m │\n",
              "├──────────────────────────────────────┼─────────────────────────────┼─────────────────┤\n",
              "│ dropout_14 (\u001b[38;5;33mDropout\u001b[0m)                 │ (\u001b[38;5;45mNone\u001b[0m, \u001b[38;5;34m128\u001b[0m)                 │               \u001b[38;5;34m0\u001b[0m │\n",
              "├──────────────────────────────────────┼─────────────────────────────┼─────────────────┤\n",
              "│ dense_5 (\u001b[38;5;33mDense\u001b[0m)                      │ (\u001b[38;5;45mNone\u001b[0m, \u001b[38;5;34m3\u001b[0m)                   │             \u001b[38;5;34m387\u001b[0m │\n",
              "└──────────────────────────────────────┴─────────────────────────────┴─────────────────┘\n"
            ]
          },
          "metadata": {},
          "output_type": "display_data"
        },
        {
          "data": {
            "text/html": [
              "<pre style=\"white-space:pre;overflow-x:auto;line-height:normal;font-family:Menlo,'DejaVu Sans Mono',consolas,'Courier New',monospace\"><span style=\"font-weight: bold\"> Total params: </span><span style=\"color: #00af00; text-decoration-color: #00af00\">2,053,643</span> (7.83 MB)\n",
              "</pre>\n"
            ],
            "text/plain": [
              "\u001b[1m Total params: \u001b[0m\u001b[38;5;34m2,053,643\u001b[0m (7.83 MB)\n"
            ]
          },
          "metadata": {},
          "output_type": "display_data"
        },
        {
          "data": {
            "text/html": [
              "<pre style=\"white-space:pre;overflow-x:auto;line-height:normal;font-family:Menlo,'DejaVu Sans Mono',consolas,'Courier New',monospace\"><span style=\"font-weight: bold\"> Trainable params: </span><span style=\"color: #00af00; text-decoration-color: #00af00\">684,227</span> (2.61 MB)\n",
              "</pre>\n"
            ],
            "text/plain": [
              "\u001b[1m Trainable params: \u001b[0m\u001b[38;5;34m684,227\u001b[0m (2.61 MB)\n"
            ]
          },
          "metadata": {},
          "output_type": "display_data"
        },
        {
          "data": {
            "text/html": [
              "<pre style=\"white-space:pre;overflow-x:auto;line-height:normal;font-family:Menlo,'DejaVu Sans Mono',consolas,'Courier New',monospace\"><span style=\"font-weight: bold\"> Non-trainable params: </span><span style=\"color: #00af00; text-decoration-color: #00af00\">960</span> (3.75 KB)\n",
              "</pre>\n"
            ],
            "text/plain": [
              "\u001b[1m Non-trainable params: \u001b[0m\u001b[38;5;34m960\u001b[0m (3.75 KB)\n"
            ]
          },
          "metadata": {},
          "output_type": "display_data"
        },
        {
          "data": {
            "text/html": [
              "<pre style=\"white-space:pre;overflow-x:auto;line-height:normal;font-family:Menlo,'DejaVu Sans Mono',consolas,'Courier New',monospace\"><span style=\"font-weight: bold\"> Optimizer params: </span><span style=\"color: #00af00; text-decoration-color: #00af00\">1,368,456</span> (5.22 MB)\n",
              "</pre>\n"
            ],
            "text/plain": [
              "\u001b[1m Optimizer params: \u001b[0m\u001b[38;5;34m1,368,456\u001b[0m (5.22 MB)\n"
            ]
          },
          "metadata": {},
          "output_type": "display_data"
        }
      ],
      "source": [
        "model.summary()\n",
        "model = build_model(input_shape, num_classes)"
      ]
    },
    {
      "cell_type": "code",
      "execution_count": 48,
      "metadata": {
        "colab": {
          "base_uri": "https://localhost:8080/",
          "height": 1000
        },
        "id": "3MoAahOg0Q8I",
        "outputId": "38a927fb-8acf-4bc7-b4be-8c8442440da9"
      },
      "outputs": [
        {
          "name": "stdout",
          "output_type": "stream",
          "text": [
            "Epoch 1/100\n",
            "\u001b[1m120/120\u001b[0m \u001b[32m━━━━━━━━━━━━━━━━━━━━\u001b[0m\u001b[37m\u001b[0m \u001b[1m0s\u001b[0m 37ms/step - accuracy: 0.4372 - loss: 7.6684\n",
            "Epoch 1: val_loss improved from inf to 9.78420, saving model to ./gdrive/MyDrive/cnn/accent_model.keras\n",
            "\u001b[1m120/120\u001b[0m \u001b[32m━━━━━━━━━━━━━━━━━━━━\u001b[0m\u001b[37m\u001b[0m \u001b[1m16s\u001b[0m 53ms/step - accuracy: 0.4373 - loss: 7.6665 - val_accuracy: 0.5115 - val_loss: 9.7842 - learning_rate: 0.0010\n",
            "Epoch 2/100\n",
            "\u001b[1m118/120\u001b[0m \u001b[32m━━━━━━━━━━━━━━━━━━━\u001b[0m\u001b[37m━\u001b[0m \u001b[1m0s\u001b[0m 5ms/step - accuracy: 0.4959 - loss: 6.6382\n",
            "Epoch 2: val_loss did not improve from 9.78420\n",
            "\u001b[1m120/120\u001b[0m \u001b[32m━━━━━━━━━━━━━━━━━━━━\u001b[0m\u001b[37m\u001b[0m \u001b[1m10s\u001b[0m 6ms/step - accuracy: 0.4959 - loss: 6.6353 - val_accuracy: 0.5115 - val_loss: 11.4950 - learning_rate: 0.0010\n",
            "Epoch 3/100\n",
            "\u001b[1m110/120\u001b[0m \u001b[32m━━━━━━━━━━━━━━━━━━\u001b[0m\u001b[37m━━\u001b[0m \u001b[1m0s\u001b[0m 4ms/step - accuracy: 0.5226 - loss: 6.0321\n",
            "Epoch 3: val_loss did not improve from 9.78420\n",
            "\u001b[1m120/120\u001b[0m \u001b[32m━━━━━━━━━━━━━━━━━━━━\u001b[0m\u001b[37m\u001b[0m \u001b[1m1s\u001b[0m 5ms/step - accuracy: 0.5223 - loss: 6.0132 - val_accuracy: 0.5115 - val_loss: 10.8147 - learning_rate: 0.0010\n",
            "Epoch 4/100\n",
            "\u001b[1m111/120\u001b[0m \u001b[32m━━━━━━━━━━━━━━━━━━\u001b[0m\u001b[37m━━\u001b[0m \u001b[1m0s\u001b[0m 5ms/step - accuracy: 0.5583 - loss: 5.2133\n",
            "Epoch 4: val_loss did not improve from 9.78420\n",
            "\u001b[1m120/120\u001b[0m \u001b[32m━━━━━━━━━━━━━━━━━━━━\u001b[0m\u001b[37m\u001b[0m \u001b[1m1s\u001b[0m 6ms/step - accuracy: 0.5576 - loss: 5.2033 - val_accuracy: 0.5115 - val_loss: 10.5702 - learning_rate: 0.0010\n",
            "Epoch 5/100\n",
            "\u001b[1m120/120\u001b[0m \u001b[32m━━━━━━━━━━━━━━━━━━━━\u001b[0m\u001b[37m\u001b[0m \u001b[1m0s\u001b[0m 5ms/step - accuracy: 0.5798 - loss: 4.7165\n",
            "Epoch 5: val_loss improved from 9.78420 to 7.58367, saving model to ./gdrive/MyDrive/cnn/accent_model.keras\n",
            "\u001b[1m120/120\u001b[0m \u001b[32m━━━━━━━━━━━━━━━━━━━━\u001b[0m\u001b[37m\u001b[0m \u001b[1m1s\u001b[0m 7ms/step - accuracy: 0.5799 - loss: 4.7159 - val_accuracy: 0.5115 - val_loss: 7.5837 - learning_rate: 1.0000e-04\n",
            "Epoch 6/100\n",
            "\u001b[1m110/120\u001b[0m \u001b[32m━━━━━━━━━━━━━━━━━━\u001b[0m\u001b[37m━━\u001b[0m \u001b[1m0s\u001b[0m 5ms/step - accuracy: 0.5887 - loss: 4.5503\n",
            "Epoch 6: val_loss improved from 7.58367 to 5.36105, saving model to ./gdrive/MyDrive/cnn/accent_model.keras\n",
            "\u001b[1m120/120\u001b[0m \u001b[32m━━━━━━━━━━━━━━━━━━━━\u001b[0m\u001b[37m\u001b[0m \u001b[1m1s\u001b[0m 7ms/step - accuracy: 0.5899 - loss: 4.5483 - val_accuracy: 0.5115 - val_loss: 5.3611 - learning_rate: 1.0000e-04\n",
            "Epoch 7/100\n",
            "\u001b[1m115/120\u001b[0m \u001b[32m━━━━━━━━━━━━━━━━━━━\u001b[0m\u001b[37m━\u001b[0m \u001b[1m0s\u001b[0m 4ms/step - accuracy: 0.6019 - loss: 4.4712\n",
            "Epoch 7: val_loss improved from 5.36105 to 4.71402, saving model to ./gdrive/MyDrive/cnn/accent_model.keras\n",
            "\u001b[1m120/120\u001b[0m \u001b[32m━━━━━━━━━━━━━━━━━━━━\u001b[0m\u001b[37m\u001b[0m \u001b[1m1s\u001b[0m 6ms/step - accuracy: 0.6015 - loss: 4.4696 - val_accuracy: 0.5344 - val_loss: 4.7140 - learning_rate: 1.0000e-04\n",
            "Epoch 8/100\n",
            "\u001b[1m114/120\u001b[0m \u001b[32m━━━━━━━━━━━━━━━━━━━\u001b[0m\u001b[37m━\u001b[0m \u001b[1m0s\u001b[0m 4ms/step - accuracy: 0.6211 - loss: 4.3393\n",
            "Epoch 8: val_loss improved from 4.71402 to 4.58176, saving model to ./gdrive/MyDrive/cnn/accent_model.keras\n",
            "\u001b[1m120/120\u001b[0m \u001b[32m━━━━━━━━━━━━━━━━━━━━\u001b[0m\u001b[37m\u001b[0m \u001b[1m1s\u001b[0m 6ms/step - accuracy: 0.6210 - loss: 4.3388 - val_accuracy: 0.5115 - val_loss: 4.5818 - learning_rate: 1.0000e-04\n",
            "Epoch 9/100\n",
            "\u001b[1m119/120\u001b[0m \u001b[32m━━━━━━━━━━━━━━━━━━━\u001b[0m\u001b[37m━\u001b[0m \u001b[1m0s\u001b[0m 4ms/step - accuracy: 0.6163 - loss: 4.2497\n",
            "Epoch 9: val_loss improved from 4.58176 to 4.44537, saving model to ./gdrive/MyDrive/cnn/accent_model.keras\n",
            "\u001b[1m120/120\u001b[0m \u001b[32m━━━━━━━━━━━━━━━━━━━━\u001b[0m\u001b[37m\u001b[0m \u001b[1m1s\u001b[0m 6ms/step - accuracy: 0.6164 - loss: 4.2493 - val_accuracy: 0.5261 - val_loss: 4.4454 - learning_rate: 1.0000e-04\n",
            "Epoch 10/100\n",
            "\u001b[1m119/120\u001b[0m \u001b[32m━━━━━━━━━━━━━━━━━━━\u001b[0m\u001b[37m━\u001b[0m \u001b[1m0s\u001b[0m 4ms/step - accuracy: 0.6269 - loss: 4.1501\n",
            "Epoch 10: val_loss improved from 4.44537 to 4.43404, saving model to ./gdrive/MyDrive/cnn/accent_model.keras\n",
            "\u001b[1m120/120\u001b[0m \u001b[32m━━━━━━━━━━━━━━━━━━━━\u001b[0m\u001b[37m\u001b[0m \u001b[1m1s\u001b[0m 6ms/step - accuracy: 0.6267 - loss: 4.1499 - val_accuracy: 0.5094 - val_loss: 4.4340 - learning_rate: 1.0000e-04\n",
            "Epoch 11/100\n",
            "\u001b[1m120/120\u001b[0m \u001b[32m━━━━━━━━━━━━━━━━━━━━\u001b[0m\u001b[37m\u001b[0m \u001b[1m0s\u001b[0m 4ms/step - accuracy: 0.6230 - loss: 4.0784\n",
            "Epoch 11: val_loss improved from 4.43404 to 4.23167, saving model to ./gdrive/MyDrive/cnn/accent_model.keras\n",
            "\u001b[1m120/120\u001b[0m \u001b[32m━━━━━━━━━━━━━━━━━━━━\u001b[0m\u001b[37m\u001b[0m \u001b[1m1s\u001b[0m 5ms/step - accuracy: 0.6230 - loss: 4.0782 - val_accuracy: 0.5574 - val_loss: 4.2317 - learning_rate: 1.0000e-04\n",
            "Epoch 12/100\n",
            "\u001b[1m117/120\u001b[0m \u001b[32m━━━━━━━━━━━━━━━━━━━\u001b[0m\u001b[37m━\u001b[0m \u001b[1m0s\u001b[0m 4ms/step - accuracy: 0.6259 - loss: 3.9951\n",
            "Epoch 12: val_loss did not improve from 4.23167\n",
            "\u001b[1m120/120\u001b[0m \u001b[32m━━━━━━━━━━━━━━━━━━━━\u001b[0m\u001b[37m\u001b[0m \u001b[1m1s\u001b[0m 5ms/step - accuracy: 0.6259 - loss: 3.9935 - val_accuracy: 0.5136 - val_loss: 4.2603 - learning_rate: 1.0000e-04\n",
            "Epoch 13/100\n",
            "\u001b[1m118/120\u001b[0m \u001b[32m━━━━━━━━━━━━━━━━━━━\u001b[0m\u001b[37m━\u001b[0m \u001b[1m0s\u001b[0m 4ms/step - accuracy: 0.6374 - loss: 3.8614\n",
            "Epoch 13: val_loss improved from 4.23167 to 4.15663, saving model to ./gdrive/MyDrive/cnn/accent_model.keras\n",
            "\u001b[1m120/120\u001b[0m \u001b[32m━━━━━━━━━━━━━━━━━━━━\u001b[0m\u001b[37m\u001b[0m \u001b[1m1s\u001b[0m 5ms/step - accuracy: 0.6373 - loss: 3.8612 - val_accuracy: 0.5386 - val_loss: 4.1566 - learning_rate: 1.0000e-04\n",
            "Epoch 14/100\n",
            "\u001b[1m120/120\u001b[0m \u001b[32m━━━━━━━━━━━━━━━━━━━━\u001b[0m\u001b[37m\u001b[0m \u001b[1m0s\u001b[0m 4ms/step - accuracy: 0.6547 - loss: 3.7699\n",
            "Epoch 14: val_loss improved from 4.15663 to 3.93712, saving model to ./gdrive/MyDrive/cnn/accent_model.keras\n",
            "\u001b[1m120/120\u001b[0m \u001b[32m━━━━━━━━━━━━━━━━━━━━\u001b[0m\u001b[37m\u001b[0m \u001b[1m1s\u001b[0m 5ms/step - accuracy: 0.6547 - loss: 3.7698 - val_accuracy: 0.5992 - val_loss: 3.9371 - learning_rate: 1.0000e-04\n",
            "Epoch 15/100\n",
            "\u001b[1m115/120\u001b[0m \u001b[32m━━━━━━━━━━━━━━━━━━━\u001b[0m\u001b[37m━\u001b[0m \u001b[1m0s\u001b[0m 4ms/step - accuracy: 0.6668 - loss: 3.6900\n",
            "Epoch 15: val_loss did not improve from 3.93712\n",
            "\u001b[1m120/120\u001b[0m \u001b[32m━━━━━━━━━━━━━━━━━━━━\u001b[0m\u001b[37m\u001b[0m \u001b[1m1s\u001b[0m 5ms/step - accuracy: 0.6663 - loss: 3.6889 - val_accuracy: 0.5344 - val_loss: 3.9788 - learning_rate: 1.0000e-04\n",
            "Epoch 16/100\n",
            "\u001b[1m120/120\u001b[0m \u001b[32m━━━━━━━━━━━━━━━━━━━━\u001b[0m\u001b[37m\u001b[0m \u001b[1m0s\u001b[0m 4ms/step - accuracy: 0.6569 - loss: 3.5926\n",
            "Epoch 16: val_loss improved from 3.93712 to 3.84313, saving model to ./gdrive/MyDrive/cnn/accent_model.keras\n",
            "\u001b[1m120/120\u001b[0m \u001b[32m━━━━━━━━━━━━━━━━━━━━\u001b[0m\u001b[37m\u001b[0m \u001b[1m1s\u001b[0m 5ms/step - accuracy: 0.6569 - loss: 3.5925 - val_accuracy: 0.5491 - val_loss: 3.8431 - learning_rate: 1.0000e-04\n",
            "Epoch 17/100\n",
            "\u001b[1m118/120\u001b[0m \u001b[32m━━━━━━━━━━━━━━━━━━━\u001b[0m\u001b[37m━\u001b[0m \u001b[1m0s\u001b[0m 4ms/step - accuracy: 0.6780 - loss: 3.4860\n",
            "Epoch 17: val_loss did not improve from 3.84313\n",
            "\u001b[1m120/120\u001b[0m \u001b[32m━━━━━━━━━━━━━━━━━━━━\u001b[0m\u001b[37m\u001b[0m \u001b[1m1s\u001b[0m 5ms/step - accuracy: 0.6776 - loss: 3.4860 - val_accuracy: 0.5303 - val_loss: 3.8776 - learning_rate: 1.0000e-04\n",
            "Epoch 18/100\n",
            "\u001b[1m120/120\u001b[0m \u001b[32m━━━━━━━━━━━━━━━━━━━━\u001b[0m\u001b[37m\u001b[0m \u001b[1m0s\u001b[0m 4ms/step - accuracy: 0.6650 - loss: 3.4575\n",
            "Epoch 18: val_loss improved from 3.84313 to 3.79461, saving model to ./gdrive/MyDrive/cnn/accent_model.keras\n",
            "\u001b[1m120/120\u001b[0m \u001b[32m━━━━━━━━━━━━━━━━━━━━\u001b[0m\u001b[37m\u001b[0m \u001b[1m1s\u001b[0m 5ms/step - accuracy: 0.6650 - loss: 3.4572 - val_accuracy: 0.5240 - val_loss: 3.7946 - learning_rate: 1.0000e-04\n",
            "Epoch 19/100\n",
            "\u001b[1m109/120\u001b[0m \u001b[32m━━━━━━━━━━━━━━━━━━\u001b[0m\u001b[37m━━\u001b[0m \u001b[1m0s\u001b[0m 4ms/step - accuracy: 0.6608 - loss: 3.3788\n",
            "Epoch 19: val_loss improved from 3.79461 to 3.68216, saving model to ./gdrive/MyDrive/cnn/accent_model.keras\n",
            "\u001b[1m120/120\u001b[0m \u001b[32m━━━━━━━━━━━━━━━━━━━━\u001b[0m\u001b[37m\u001b[0m \u001b[1m1s\u001b[0m 5ms/step - accuracy: 0.6605 - loss: 3.3751 - val_accuracy: 0.5303 - val_loss: 3.6822 - learning_rate: 1.0000e-04\n",
            "Epoch 20/100\n",
            "\u001b[1m120/120\u001b[0m \u001b[32m━━━━━━━━━━━━━━━━━━━━\u001b[0m\u001b[37m\u001b[0m \u001b[1m0s\u001b[0m 5ms/step - accuracy: 0.6999 - loss: 3.2104\n",
            "Epoch 20: val_loss did not improve from 3.68216\n",
            "\u001b[1m120/120\u001b[0m \u001b[32m━━━━━━━━━━━━━━━━━━━━\u001b[0m\u001b[37m\u001b[0m \u001b[1m1s\u001b[0m 6ms/step - accuracy: 0.6998 - loss: 3.2105 - val_accuracy: 0.4885 - val_loss: 3.7994 - learning_rate: 1.0000e-04\n",
            "Epoch 21/100\n",
            "\u001b[1m114/120\u001b[0m \u001b[32m━━━━━━━━━━━━━━━━━━━\u001b[0m\u001b[37m━\u001b[0m \u001b[1m0s\u001b[0m 5ms/step - accuracy: 0.6803 - loss: 3.1621\n",
            "Epoch 21: val_loss improved from 3.68216 to 3.50123, saving model to ./gdrive/MyDrive/cnn/accent_model.keras\n",
            "\u001b[1m120/120\u001b[0m \u001b[32m━━━━━━━━━━━━━━━━━━━━\u001b[0m\u001b[37m\u001b[0m \u001b[1m1s\u001b[0m 7ms/step - accuracy: 0.6797 - loss: 3.1617 - val_accuracy: 0.5407 - val_loss: 3.5012 - learning_rate: 1.0000e-04\n",
            "Epoch 22/100\n",
            "\u001b[1m120/120\u001b[0m \u001b[32m━━━━━━━━━━━━━━━━━━━━\u001b[0m\u001b[37m\u001b[0m \u001b[1m0s\u001b[0m 5ms/step - accuracy: 0.7073 - loss: 3.0685\n",
            "Epoch 22: val_loss improved from 3.50123 to 3.46566, saving model to ./gdrive/MyDrive/cnn/accent_model.keras\n",
            "\u001b[1m120/120\u001b[0m \u001b[32m━━━━━━━━━━━━━━━━━━━━\u001b[0m\u001b[37m\u001b[0m \u001b[1m1s\u001b[0m 7ms/step - accuracy: 0.7073 - loss: 3.0684 - val_accuracy: 0.5240 - val_loss: 3.4657 - learning_rate: 1.0000e-04\n",
            "Epoch 23/100\n",
            "\u001b[1m109/120\u001b[0m \u001b[32m━━━━━━━━━━━━━━━━━━\u001b[0m\u001b[37m━━\u001b[0m \u001b[1m0s\u001b[0m 4ms/step - accuracy: 0.6878 - loss: 2.9681\n",
            "Epoch 23: val_loss improved from 3.46566 to 3.31066, saving model to ./gdrive/MyDrive/cnn/accent_model.keras\n",
            "\u001b[1m120/120\u001b[0m \u001b[32m━━━━━━━━━━━━━━━━━━━━\u001b[0m\u001b[37m\u001b[0m \u001b[1m1s\u001b[0m 5ms/step - accuracy: 0.6872 - loss: 2.9696 - val_accuracy: 0.5407 - val_loss: 3.3107 - learning_rate: 1.0000e-04\n",
            "Epoch 24/100\n",
            "\u001b[1m116/120\u001b[0m \u001b[32m━━━━━━━━━━━━━━━━━━━\u001b[0m\u001b[37m━\u001b[0m \u001b[1m0s\u001b[0m 4ms/step - accuracy: 0.6842 - loss: 2.9102\n",
            "Epoch 24: val_loss improved from 3.31066 to 3.24278, saving model to ./gdrive/MyDrive/cnn/accent_model.keras\n",
            "\u001b[1m120/120\u001b[0m \u001b[32m━━━━━━━━━━━━━━━━━━━━\u001b[0m\u001b[37m\u001b[0m \u001b[1m1s\u001b[0m 6ms/step - accuracy: 0.6843 - loss: 2.9102 - val_accuracy: 0.5470 - val_loss: 3.2428 - learning_rate: 1.0000e-04\n",
            "Epoch 25/100\n",
            "\u001b[1m113/120\u001b[0m \u001b[32m━━━━━━━━━━━━━━━━━━\u001b[0m\u001b[37m━━\u001b[0m \u001b[1m0s\u001b[0m 4ms/step - accuracy: 0.6995 - loss: 2.8156\n",
            "Epoch 25: val_loss improved from 3.24278 to 3.12578, saving model to ./gdrive/MyDrive/cnn/accent_model.keras\n",
            "\u001b[1m120/120\u001b[0m \u001b[32m━━━━━━━━━━━━━━━━━━━━\u001b[0m\u001b[37m\u001b[0m \u001b[1m1s\u001b[0m 6ms/step - accuracy: 0.7000 - loss: 2.8150 - val_accuracy: 0.5658 - val_loss: 3.1258 - learning_rate: 1.0000e-04\n",
            "Epoch 26/100\n",
            "\u001b[1m118/120\u001b[0m \u001b[32m━━━━━━━━━━━━━━━━━━━\u001b[0m\u001b[37m━\u001b[0m \u001b[1m0s\u001b[0m 4ms/step - accuracy: 0.7312 - loss: 2.7342\n",
            "Epoch 26: val_loss improved from 3.12578 to 3.09123, saving model to ./gdrive/MyDrive/cnn/accent_model.keras\n",
            "\u001b[1m120/120\u001b[0m \u001b[32m━━━━━━━━━━━━━━━━━━━━\u001b[0m\u001b[37m\u001b[0m \u001b[1m1s\u001b[0m 5ms/step - accuracy: 0.7308 - loss: 2.7341 - val_accuracy: 0.5574 - val_loss: 3.0912 - learning_rate: 1.0000e-04\n",
            "Epoch 27/100\n",
            "\u001b[1m118/120\u001b[0m \u001b[32m━━━━━━━━━━━━━━━━━━━\u001b[0m\u001b[37m━\u001b[0m \u001b[1m0s\u001b[0m 4ms/step - accuracy: 0.7286 - loss: 2.6560\n",
            "Epoch 27: val_loss improved from 3.09123 to 3.01558, saving model to ./gdrive/MyDrive/cnn/accent_model.keras\n",
            "\u001b[1m120/120\u001b[0m \u001b[32m━━━━━━━━━━━━━━━━━━━━\u001b[0m\u001b[37m\u001b[0m \u001b[1m1s\u001b[0m 5ms/step - accuracy: 0.7282 - loss: 2.6558 - val_accuracy: 0.5553 - val_loss: 3.0156 - learning_rate: 1.0000e-04\n",
            "Epoch 28/100\n",
            "\u001b[1m120/120\u001b[0m \u001b[32m━━━━━━━━━━━━━━━━━━━━\u001b[0m\u001b[37m\u001b[0m \u001b[1m0s\u001b[0m 4ms/step - accuracy: 0.7097 - loss: 2.5811\n",
            "Epoch 28: val_loss did not improve from 3.01558\n",
            "\u001b[1m120/120\u001b[0m \u001b[32m━━━━━━━━━━━━━━━━━━━━\u001b[0m\u001b[37m\u001b[0m \u001b[1m1s\u001b[0m 5ms/step - accuracy: 0.7098 - loss: 2.5809 - val_accuracy: 0.5470 - val_loss: 3.0244 - learning_rate: 1.0000e-04\n",
            "Epoch 29/100\n",
            "\u001b[1m110/120\u001b[0m \u001b[32m━━━━━━━━━━━━━━━━━━\u001b[0m\u001b[37m━━\u001b[0m \u001b[1m0s\u001b[0m 4ms/step - accuracy: 0.7296 - loss: 2.5295\n",
            "Epoch 29: val_loss improved from 3.01558 to 2.83933, saving model to ./gdrive/MyDrive/cnn/accent_model.keras\n",
            "\u001b[1m120/120\u001b[0m \u001b[32m━━━━━━━━━━━━━━━━━━━━\u001b[0m\u001b[37m\u001b[0m \u001b[1m1s\u001b[0m 5ms/step - accuracy: 0.7282 - loss: 2.5287 - val_accuracy: 0.5825 - val_loss: 2.8393 - learning_rate: 1.0000e-04\n",
            "Epoch 30/100\n",
            "\u001b[1m109/120\u001b[0m \u001b[32m━━━━━━━━━━━━━━━━━━\u001b[0m\u001b[37m━━\u001b[0m \u001b[1m0s\u001b[0m 4ms/step - accuracy: 0.7066 - loss: 2.4683\n",
            "Epoch 30: val_loss improved from 2.83933 to 2.79468, saving model to ./gdrive/MyDrive/cnn/accent_model.keras\n",
            "\u001b[1m120/120\u001b[0m \u001b[32m━━━━━━━━━━━━━━━━━━━━\u001b[0m\u001b[37m\u001b[0m \u001b[1m1s\u001b[0m 5ms/step - accuracy: 0.7064 - loss: 2.4669 - val_accuracy: 0.5616 - val_loss: 2.7947 - learning_rate: 1.0000e-04\n",
            "Epoch 31/100\n",
            "\u001b[1m111/120\u001b[0m \u001b[32m━━━━━━━━━━━━━━━━━━\u001b[0m\u001b[37m━━\u001b[0m \u001b[1m0s\u001b[0m 4ms/step - accuracy: 0.7305 - loss: 2.3682\n",
            "Epoch 31: val_loss improved from 2.79468 to 2.73899, saving model to ./gdrive/MyDrive/cnn/accent_model.keras\n",
            "\u001b[1m120/120\u001b[0m \u001b[32m━━━━━━━━━━━━━━━━━━━━\u001b[0m\u001b[37m\u001b[0m \u001b[1m1s\u001b[0m 5ms/step - accuracy: 0.7298 - loss: 2.3692 - val_accuracy: 0.5511 - val_loss: 2.7390 - learning_rate: 1.0000e-04\n",
            "Epoch 32/100\n",
            "\u001b[1m120/120\u001b[0m \u001b[32m━━━━━━━━━━━━━━━━━━━━\u001b[0m\u001b[37m\u001b[0m \u001b[1m0s\u001b[0m 4ms/step - accuracy: 0.7121 - loss: 2.3384\n",
            "Epoch 32: val_loss did not improve from 2.73899\n",
            "\u001b[1m120/120\u001b[0m \u001b[32m━━━━━━━━━━━━━━━━━━━━\u001b[0m\u001b[37m\u001b[0m \u001b[1m1s\u001b[0m 5ms/step - accuracy: 0.7121 - loss: 2.3384 - val_accuracy: 0.5010 - val_loss: 2.8454 - learning_rate: 1.0000e-04\n",
            "Epoch 33/100\n",
            "\u001b[1m120/120\u001b[0m \u001b[32m━━━━━━━━━━━━━━━━━━━━\u001b[0m\u001b[37m\u001b[0m \u001b[1m0s\u001b[0m 4ms/step - accuracy: 0.7160 - loss: 2.2651\n",
            "Epoch 33: val_loss improved from 2.73899 to 2.65359, saving model to ./gdrive/MyDrive/cnn/accent_model.keras\n",
            "\u001b[1m120/120\u001b[0m \u001b[32m━━━━━━━━━━━━━━━━━━━━\u001b[0m\u001b[37m\u001b[0m \u001b[1m1s\u001b[0m 5ms/step - accuracy: 0.7161 - loss: 2.2649 - val_accuracy: 0.5762 - val_loss: 2.6536 - learning_rate: 1.0000e-04\n",
            "Epoch 34/100\n",
            "\u001b[1m120/120\u001b[0m \u001b[32m━━━━━━━━━━━━━━━━━━━━\u001b[0m\u001b[37m\u001b[0m \u001b[1m0s\u001b[0m 4ms/step - accuracy: 0.7243 - loss: 2.1993\n",
            "Epoch 34: val_loss improved from 2.65359 to 2.54119, saving model to ./gdrive/MyDrive/cnn/accent_model.keras\n",
            "\u001b[1m120/120\u001b[0m \u001b[32m━━━━━━━━━━━━━━━━━━━━\u001b[0m\u001b[37m\u001b[0m \u001b[1m1s\u001b[0m 5ms/step - accuracy: 0.7243 - loss: 2.1994 - val_accuracy: 0.6180 - val_loss: 2.5412 - learning_rate: 1.0000e-04\n",
            "Epoch 35/100\n",
            "\u001b[1m120/120\u001b[0m \u001b[32m━━━━━━━━━━━━━━━━━━━━\u001b[0m\u001b[37m\u001b[0m \u001b[1m0s\u001b[0m 4ms/step - accuracy: 0.7280 - loss: 2.1405\n",
            "Epoch 35: val_loss improved from 2.54119 to 2.47417, saving model to ./gdrive/MyDrive/cnn/accent_model.keras\n",
            "\u001b[1m120/120\u001b[0m \u001b[32m━━━━━━━━━━━━━━━━━━━━\u001b[0m\u001b[37m\u001b[0m \u001b[1m1s\u001b[0m 7ms/step - accuracy: 0.7280 - loss: 2.1405 - val_accuracy: 0.6075 - val_loss: 2.4742 - learning_rate: 1.0000e-04\n",
            "Epoch 36/100\n",
            "\u001b[1m120/120\u001b[0m \u001b[32m━━━━━━━━━━━━━━━━━━━━\u001b[0m\u001b[37m\u001b[0m \u001b[1m0s\u001b[0m 5ms/step - accuracy: 0.7281 - loss: 2.1141\n",
            "Epoch 36: val_loss did not improve from 2.47417\n",
            "\u001b[1m120/120\u001b[0m \u001b[32m━━━━━━━━━━━━━━━━━━━━\u001b[0m\u001b[37m\u001b[0m \u001b[1m1s\u001b[0m 6ms/step - accuracy: 0.7280 - loss: 2.1142 - val_accuracy: 0.5762 - val_loss: 2.6590 - learning_rate: 1.0000e-04\n",
            "Epoch 37/100\n",
            "\u001b[1m115/120\u001b[0m \u001b[32m━━━━━━━━━━━━━━━━━━━\u001b[0m\u001b[37m━\u001b[0m \u001b[1m0s\u001b[0m 5ms/step - accuracy: 0.7359 - loss: 2.0338\n",
            "Epoch 37: val_loss did not improve from 2.47417\n",
            "\u001b[1m120/120\u001b[0m \u001b[32m━━━━━━━━━━━━━━━━━━━━\u001b[0m\u001b[37m\u001b[0m \u001b[1m1s\u001b[0m 6ms/step - accuracy: 0.7353 - loss: 2.0347 - val_accuracy: 0.5992 - val_loss: 2.5577 - learning_rate: 1.0000e-04\n",
            "Epoch 38/100\n",
            "\u001b[1m117/120\u001b[0m \u001b[32m━━━━━━━━━━━━━━━━━━━\u001b[0m\u001b[37m━\u001b[0m \u001b[1m0s\u001b[0m 5ms/step - accuracy: 0.7176 - loss: 2.0346\n",
            "Epoch 38: val_loss improved from 2.47417 to 2.42073, saving model to ./gdrive/MyDrive/cnn/accent_model.keras\n",
            "\u001b[1m120/120\u001b[0m \u001b[32m━━━━━━━━━━━━━━━━━━━━\u001b[0m\u001b[37m\u001b[0m \u001b[1m1s\u001b[0m 7ms/step - accuracy: 0.7181 - loss: 2.0342 - val_accuracy: 0.6180 - val_loss: 2.4207 - learning_rate: 1.0000e-04\n",
            "Epoch 39/100\n",
            "\u001b[1m109/120\u001b[0m \u001b[32m━━━━━━━━━━━━━━━━━━\u001b[0m\u001b[37m━━\u001b[0m \u001b[1m0s\u001b[0m 4ms/step - accuracy: 0.7362 - loss: 1.9710\n",
            "Epoch 39: val_loss did not improve from 2.42073\n",
            "\u001b[1m120/120\u001b[0m \u001b[32m━━━━━━━━━━━━━━━━━━━━\u001b[0m\u001b[37m\u001b[0m \u001b[1m1s\u001b[0m 5ms/step - accuracy: 0.7351 - loss: 1.9695 - val_accuracy: 0.5992 - val_loss: 2.4420 - learning_rate: 1.0000e-04\n",
            "Epoch 40/100\n",
            "\u001b[1m119/120\u001b[0m \u001b[32m━━━━━━━━━━━━━━━━━━━\u001b[0m\u001b[37m━\u001b[0m \u001b[1m0s\u001b[0m 4ms/step - accuracy: 0.7406 - loss: 1.9021\n",
            "Epoch 40: val_loss did not improve from 2.42073\n",
            "\u001b[1m120/120\u001b[0m \u001b[32m━━━━━━━━━━━━━━━━━━━━\u001b[0m\u001b[37m\u001b[0m \u001b[1m1s\u001b[0m 5ms/step - accuracy: 0.7406 - loss: 1.9020 - val_accuracy: 0.5574 - val_loss: 2.4883 - learning_rate: 1.0000e-04\n",
            "Epoch 41/100\n",
            "\u001b[1m119/120\u001b[0m \u001b[32m━━━━━━━━━━━━━━━━━━━\u001b[0m\u001b[37m━\u001b[0m \u001b[1m0s\u001b[0m 4ms/step - accuracy: 0.7660 - loss: 1.8604\n",
            "Epoch 41: val_loss improved from 2.42073 to 2.38449, saving model to ./gdrive/MyDrive/cnn/accent_model.keras\n",
            "\u001b[1m120/120\u001b[0m \u001b[32m━━━━━━━━━━━━━━━━━━━━\u001b[0m\u001b[37m\u001b[0m \u001b[1m1s\u001b[0m 5ms/step - accuracy: 0.7659 - loss: 1.8603 - val_accuracy: 0.5532 - val_loss: 2.3845 - learning_rate: 1.0000e-04\n",
            "Epoch 42/100\n",
            "\u001b[1m117/120\u001b[0m \u001b[32m━━━━━━━━━━━━━━━━━━━\u001b[0m\u001b[37m━\u001b[0m \u001b[1m0s\u001b[0m 4ms/step - accuracy: 0.7402 - loss: 1.8498\n",
            "Epoch 42: val_loss improved from 2.38449 to 2.33517, saving model to ./gdrive/MyDrive/cnn/accent_model.keras\n",
            "\u001b[1m120/120\u001b[0m \u001b[32m━━━━━━━━━━━━━━━━━━━━\u001b[0m\u001b[37m\u001b[0m \u001b[1m1s\u001b[0m 5ms/step - accuracy: 0.7407 - loss: 1.8493 - val_accuracy: 0.5595 - val_loss: 2.3352 - learning_rate: 1.0000e-04\n",
            "Epoch 43/100\n",
            "\u001b[1m107/120\u001b[0m \u001b[32m━━━━━━━━━━━━━━━━━\u001b[0m\u001b[37m━━━\u001b[0m \u001b[1m0s\u001b[0m 4ms/step - accuracy: 0.7701 - loss: 1.7927\n",
            "Epoch 43: val_loss improved from 2.33517 to 2.21573, saving model to ./gdrive/MyDrive/cnn/accent_model.keras\n",
            "\u001b[1m120/120\u001b[0m \u001b[32m━━━━━━━━━━━━━━━━━━━━\u001b[0m\u001b[37m\u001b[0m \u001b[1m1s\u001b[0m 5ms/step - accuracy: 0.7700 - loss: 1.7915 - val_accuracy: 0.5950 - val_loss: 2.2157 - learning_rate: 1.0000e-04\n",
            "Epoch 44/100\n",
            "\u001b[1m118/120\u001b[0m \u001b[32m━━━━━━━━━━━━━━━━━━━\u001b[0m\u001b[37m━\u001b[0m \u001b[1m0s\u001b[0m 4ms/step - accuracy: 0.7437 - loss: 1.7773\n",
            "Epoch 44: val_loss improved from 2.21573 to 2.20693, saving model to ./gdrive/MyDrive/cnn/accent_model.keras\n",
            "\u001b[1m120/120\u001b[0m \u001b[32m━━━━━━━━━━━━━━━━━━━━\u001b[0m\u001b[37m\u001b[0m \u001b[1m1s\u001b[0m 5ms/step - accuracy: 0.7441 - loss: 1.7767 - val_accuracy: 0.5866 - val_loss: 2.2069 - learning_rate: 1.0000e-04\n",
            "Epoch 45/100\n",
            "\u001b[1m108/120\u001b[0m \u001b[32m━━━━━━━━━━━━━━━━━━\u001b[0m\u001b[37m━━\u001b[0m \u001b[1m0s\u001b[0m 4ms/step - accuracy: 0.7628 - loss: 1.7207\n",
            "Epoch 45: val_loss improved from 2.20693 to 2.19858, saving model to ./gdrive/MyDrive/cnn/accent_model.keras\n",
            "\u001b[1m120/120\u001b[0m \u001b[32m━━━━━━━━━━━━━━━━━━━━\u001b[0m\u001b[37m\u001b[0m \u001b[1m1s\u001b[0m 5ms/step - accuracy: 0.7626 - loss: 1.7208 - val_accuracy: 0.5804 - val_loss: 2.1986 - learning_rate: 1.0000e-04\n",
            "Epoch 46/100\n",
            "\u001b[1m119/120\u001b[0m \u001b[32m━━━━━━━━━━━━━━━━━━━\u001b[0m\u001b[37m━\u001b[0m \u001b[1m0s\u001b[0m 4ms/step - accuracy: 0.7666 - loss: 1.6997\n",
            "Epoch 46: val_loss did not improve from 2.19858\n",
            "\u001b[1m120/120\u001b[0m \u001b[32m━━━━━━━━━━━━━━━━━━━━\u001b[0m\u001b[37m\u001b[0m \u001b[1m1s\u001b[0m 5ms/step - accuracy: 0.7668 - loss: 1.6991 - val_accuracy: 0.5428 - val_loss: 2.2781 - learning_rate: 1.0000e-04\n",
            "Epoch 47/100\n",
            "\u001b[1m108/120\u001b[0m \u001b[32m━━━━━━━━━━━━━━━━━━\u001b[0m\u001b[37m━━\u001b[0m \u001b[1m0s\u001b[0m 4ms/step - accuracy: 0.7930 - loss: 1.6270\n",
            "Epoch 47: val_loss improved from 2.19858 to 2.18816, saving model to ./gdrive/MyDrive/cnn/accent_model.keras\n",
            "\u001b[1m120/120\u001b[0m \u001b[32m━━━━━━━━━━━━━━━━━━━━\u001b[0m\u001b[37m\u001b[0m \u001b[1m1s\u001b[0m 5ms/step - accuracy: 0.7904 - loss: 1.6291 - val_accuracy: 0.5825 - val_loss: 2.1882 - learning_rate: 1.0000e-04\n",
            "Epoch 48/100\n",
            "\u001b[1m120/120\u001b[0m \u001b[32m━━━━━━━━━━━━━━━━━━━━\u001b[0m\u001b[37m\u001b[0m \u001b[1m0s\u001b[0m 4ms/step - accuracy: 0.7683 - loss: 1.5985\n",
            "Epoch 48: val_loss improved from 2.18816 to 2.10737, saving model to ./gdrive/MyDrive/cnn/accent_model.keras\n",
            "\u001b[1m120/120\u001b[0m \u001b[32m━━━━━━━━━━━━━━━━━━━━\u001b[0m\u001b[37m\u001b[0m \u001b[1m1s\u001b[0m 5ms/step - accuracy: 0.7682 - loss: 1.5986 - val_accuracy: 0.6054 - val_loss: 2.1074 - learning_rate: 1.0000e-04\n",
            "Epoch 49/100\n",
            "\u001b[1m109/120\u001b[0m \u001b[32m━━━━━━━━━━━━━━━━━━\u001b[0m\u001b[37m━━\u001b[0m \u001b[1m0s\u001b[0m 4ms/step - accuracy: 0.7740 - loss: 1.5834\n",
            "Epoch 49: val_loss did not improve from 2.10737\n",
            "\u001b[1m120/120\u001b[0m \u001b[32m━━━━━━━━━━━━━━━━━━━━\u001b[0m\u001b[37m\u001b[0m \u001b[1m1s\u001b[0m 4ms/step - accuracy: 0.7745 - loss: 1.5817 - val_accuracy: 0.5825 - val_loss: 2.1182 - learning_rate: 1.0000e-04\n",
            "Epoch 50/100\n",
            "\u001b[1m107/120\u001b[0m \u001b[32m━━━━━━━━━━━━━━━━━\u001b[0m\u001b[37m━━━\u001b[0m \u001b[1m0s\u001b[0m 4ms/step - accuracy: 0.8134 - loss: 1.5097\n",
            "Epoch 50: val_loss improved from 2.10737 to 2.10014, saving model to ./gdrive/MyDrive/cnn/accent_model.keras\n",
            "\u001b[1m120/120\u001b[0m \u001b[32m━━━━━━━━━━━━━━━━━━━━\u001b[0m\u001b[37m\u001b[0m \u001b[1m1s\u001b[0m 5ms/step - accuracy: 0.8105 - loss: 1.5115 - val_accuracy: 0.5866 - val_loss: 2.1001 - learning_rate: 1.0000e-04\n",
            "Epoch 51/100\n",
            "\u001b[1m108/120\u001b[0m \u001b[32m━━━━━━━━━━━━━━━━━━\u001b[0m\u001b[37m━━\u001b[0m \u001b[1m0s\u001b[0m 4ms/step - accuracy: 0.7846 - loss: 1.5239\n",
            "Epoch 51: val_loss improved from 2.10014 to 1.93490, saving model to ./gdrive/MyDrive/cnn/accent_model.keras\n",
            "\u001b[1m120/120\u001b[0m \u001b[32m━━━━━━━━━━━━━━━━━━━━\u001b[0m\u001b[37m\u001b[0m \u001b[1m1s\u001b[0m 6ms/step - accuracy: 0.7845 - loss: 1.5209 - val_accuracy: 0.6472 - val_loss: 1.9349 - learning_rate: 1.0000e-04\n",
            "Epoch 52/100\n",
            "\u001b[1m120/120\u001b[0m \u001b[32m━━━━━━━━━━━━━━━━━━━━\u001b[0m\u001b[37m\u001b[0m \u001b[1m0s\u001b[0m 5ms/step - accuracy: 0.8070 - loss: 1.4215\n",
            "Epoch 52: val_loss did not improve from 1.93490\n",
            "\u001b[1m120/120\u001b[0m \u001b[32m━━━━━━━━━━━━━━━━━━━━\u001b[0m\u001b[37m\u001b[0m \u001b[1m1s\u001b[0m 6ms/step - accuracy: 0.8069 - loss: 1.4217 - val_accuracy: 0.6347 - val_loss: 2.0105 - learning_rate: 1.0000e-04\n",
            "Epoch 53/100\n",
            "\u001b[1m116/120\u001b[0m \u001b[32m━━━━━━━━━━━━━━━━━━━\u001b[0m\u001b[37m━\u001b[0m \u001b[1m0s\u001b[0m 5ms/step - accuracy: 0.8041 - loss: 1.4327\n",
            "Epoch 53: val_loss did not improve from 1.93490\n",
            "\u001b[1m120/120\u001b[0m \u001b[32m━━━━━━━━━━━━━━━━━━━━\u001b[0m\u001b[37m\u001b[0m \u001b[1m1s\u001b[0m 6ms/step - accuracy: 0.8038 - loss: 1.4329 - val_accuracy: 0.6075 - val_loss: 2.1001 - learning_rate: 1.0000e-04\n",
            "Epoch 54/100\n",
            "\u001b[1m113/120\u001b[0m \u001b[32m━━━━━━━━━━━━━━━━━━\u001b[0m\u001b[37m━━\u001b[0m \u001b[1m0s\u001b[0m 5ms/step - accuracy: 0.8105 - loss: 1.4250\n",
            "Epoch 54: val_loss did not improve from 1.93490\n",
            "\u001b[1m120/120\u001b[0m \u001b[32m━━━━━━━━━━━━━━━━━━━━\u001b[0m\u001b[37m\u001b[0m \u001b[1m1s\u001b[0m 5ms/step - accuracy: 0.8104 - loss: 1.4247 - val_accuracy: 0.6075 - val_loss: 1.9770 - learning_rate: 1.0000e-04\n",
            "Epoch 55/100\n",
            "\u001b[1m117/120\u001b[0m \u001b[32m━━━━━━━━━━━━━━━━━━━\u001b[0m\u001b[37m━\u001b[0m \u001b[1m0s\u001b[0m 4ms/step - accuracy: 0.8121 - loss: 1.3668\n",
            "Epoch 55: val_loss improved from 1.93490 to 1.89519, saving model to ./gdrive/MyDrive/cnn/accent_model.keras\n",
            "\u001b[1m120/120\u001b[0m \u001b[32m━━━━━━━━━━━━━━━━━━━━\u001b[0m\u001b[37m\u001b[0m \u001b[1m1s\u001b[0m 6ms/step - accuracy: 0.8121 - loss: 1.3669 - val_accuracy: 0.6409 - val_loss: 1.8952 - learning_rate: 1.0000e-05\n",
            "Epoch 56/100\n",
            "\u001b[1m110/120\u001b[0m \u001b[32m━━━━━━━━━━━━━━━━━━\u001b[0m\u001b[37m━━\u001b[0m \u001b[1m0s\u001b[0m 4ms/step - accuracy: 0.8147 - loss: 1.3877\n",
            "Epoch 56: val_loss improved from 1.89519 to 1.86558, saving model to ./gdrive/MyDrive/cnn/accent_model.keras\n",
            "\u001b[1m120/120\u001b[0m \u001b[32m━━━━━━━━━━━━━━━━━━━━\u001b[0m\u001b[37m\u001b[0m \u001b[1m1s\u001b[0m 5ms/step - accuracy: 0.8151 - loss: 1.3855 - val_accuracy: 0.6472 - val_loss: 1.8656 - learning_rate: 1.0000e-05\n",
            "Epoch 57/100\n",
            "\u001b[1m116/120\u001b[0m \u001b[32m━━━━━━━━━━━━━━━━━━━\u001b[0m\u001b[37m━\u001b[0m \u001b[1m0s\u001b[0m 4ms/step - accuracy: 0.8190 - loss: 1.3469\n",
            "Epoch 57: val_loss improved from 1.86558 to 1.86494, saving model to ./gdrive/MyDrive/cnn/accent_model.keras\n",
            "\u001b[1m120/120\u001b[0m \u001b[32m━━━━━━━━━━━━━━━━━━━━\u001b[0m\u001b[37m\u001b[0m \u001b[1m1s\u001b[0m 6ms/step - accuracy: 0.8185 - loss: 1.3474 - val_accuracy: 0.6451 - val_loss: 1.8649 - learning_rate: 1.0000e-05\n",
            "Epoch 58/100\n",
            "\u001b[1m119/120\u001b[0m \u001b[32m━━━━━━━━━━━━━━━━━━━\u001b[0m\u001b[37m━\u001b[0m \u001b[1m0s\u001b[0m 4ms/step - accuracy: 0.8312 - loss: 1.3204\n",
            "Epoch 58: val_loss did not improve from 1.86494\n",
            "\u001b[1m120/120\u001b[0m \u001b[32m━━━━━━━━━━━━━━━━━━━━\u001b[0m\u001b[37m\u001b[0m \u001b[1m1s\u001b[0m 5ms/step - accuracy: 0.8311 - loss: 1.3205 - val_accuracy: 0.6409 - val_loss: 1.8825 - learning_rate: 1.0000e-05\n",
            "Epoch 59/100\n",
            "\u001b[1m107/120\u001b[0m \u001b[32m━━━━━━━━━━━━━━━━━\u001b[0m\u001b[37m━━━\u001b[0m \u001b[1m0s\u001b[0m 4ms/step - accuracy: 0.8207 - loss: 1.3416\n",
            "Epoch 59: val_loss did not improve from 1.86494\n",
            "\u001b[1m120/120\u001b[0m \u001b[32m━━━━━━━━━━━━━━━━━━━━\u001b[0m\u001b[37m\u001b[0m \u001b[1m1s\u001b[0m 4ms/step - accuracy: 0.8207 - loss: 1.3411 - val_accuracy: 0.6493 - val_loss: 1.8829 - learning_rate: 1.0000e-05\n",
            "Epoch 60/100\n",
            "\u001b[1m117/120\u001b[0m \u001b[32m━━━━━━━━━━━━━━━━━━━\u001b[0m\u001b[37m━\u001b[0m \u001b[1m0s\u001b[0m 4ms/step - accuracy: 0.8160 - loss: 1.3514\n",
            "Epoch 60: val_loss did not improve from 1.86494\n",
            "\u001b[1m120/120\u001b[0m \u001b[32m━━━━━━━━━━━━━━━━━━━━\u001b[0m\u001b[37m\u001b[0m \u001b[1m1s\u001b[0m 5ms/step - accuracy: 0.8160 - loss: 1.3511 - val_accuracy: 0.6493 - val_loss: 1.8739 - learning_rate: 1.0000e-05\n",
            "Epoch 61/100\n",
            "\u001b[1m110/120\u001b[0m \u001b[32m━━━━━━━━━━━━━━━━━━\u001b[0m\u001b[37m━━\u001b[0m \u001b[1m0s\u001b[0m 4ms/step - accuracy: 0.8488 - loss: 1.3117\n",
            "Epoch 61: val_loss did not improve from 1.86494\n",
            "\u001b[1m120/120\u001b[0m \u001b[32m━━━━━━━━━━━━━━━━━━━━\u001b[0m\u001b[37m\u001b[0m \u001b[1m1s\u001b[0m 4ms/step - accuracy: 0.8473 - loss: 1.3121 - val_accuracy: 0.6534 - val_loss: 1.8750 - learning_rate: 1.0000e-06\n",
            "Epoch 62/100\n",
            "\u001b[1m120/120\u001b[0m \u001b[32m━━━━━━━━━━━━━━━━━━━━\u001b[0m\u001b[37m\u001b[0m \u001b[1m0s\u001b[0m 4ms/step - accuracy: 0.8334 - loss: 1.3378\n",
            "Epoch 62: val_loss did not improve from 1.86494\n",
            "\u001b[1m120/120\u001b[0m \u001b[32m━━━━━━━━━━━━━━━━━━━━\u001b[0m\u001b[37m\u001b[0m \u001b[1m1s\u001b[0m 5ms/step - accuracy: 0.8333 - loss: 1.3379 - val_accuracy: 0.6555 - val_loss: 1.8732 - learning_rate: 1.0000e-06\n",
            "Epoch 63/100\n",
            "\u001b[1m110/120\u001b[0m \u001b[32m━━━━━━━━━━━━━━━━━━\u001b[0m\u001b[37m━━\u001b[0m \u001b[1m0s\u001b[0m 4ms/step - accuracy: 0.8354 - loss: 1.3036\n",
            "Epoch 63: val_loss did not improve from 1.86494\n",
            "\u001b[1m120/120\u001b[0m \u001b[32m━━━━━━━━━━━━━━━━━━━━\u001b[0m\u001b[37m\u001b[0m \u001b[1m1s\u001b[0m 5ms/step - accuracy: 0.8345 - loss: 1.3057 - val_accuracy: 0.6514 - val_loss: 1.8791 - learning_rate: 1.0000e-06\n",
            "Epoch 64/100\n",
            "\u001b[1m117/120\u001b[0m \u001b[32m━━━━━━━━━━━━━━━━━━━\u001b[0m\u001b[37m━\u001b[0m \u001b[1m0s\u001b[0m 4ms/step - accuracy: 0.8301 - loss: 1.3095\n",
            "Epoch 64: val_loss did not improve from 1.86494\n",
            "\u001b[1m120/120\u001b[0m \u001b[32m━━━━━━━━━━━━━━━━━━━━\u001b[0m\u001b[37m\u001b[0m \u001b[1m1s\u001b[0m 5ms/step - accuracy: 0.8300 - loss: 1.3098 - val_accuracy: 0.6534 - val_loss: 1.8740 - learning_rate: 1.0000e-06\n",
            "Epoch 65/100\n",
            "\u001b[1m117/120\u001b[0m \u001b[32m━━━━━━━━━━━━━━━━━━━\u001b[0m\u001b[37m━\u001b[0m \u001b[1m0s\u001b[0m 4ms/step - accuracy: 0.8314 - loss: 1.3097\n",
            "Epoch 65: val_loss did not improve from 1.86494\n",
            "\u001b[1m120/120\u001b[0m \u001b[32m━━━━━━━━━━━━━━━━━━━━\u001b[0m\u001b[37m\u001b[0m \u001b[1m1s\u001b[0m 5ms/step - accuracy: 0.8311 - loss: 1.3102 - val_accuracy: 0.6555 - val_loss: 1.8739 - learning_rate: 1.0000e-06\n",
            "Epoch 66/100\n",
            "\u001b[1m112/120\u001b[0m \u001b[32m━━━━━━━━━━━━━━━━━━\u001b[0m\u001b[37m━━\u001b[0m \u001b[1m0s\u001b[0m 4ms/step - accuracy: 0.8309 - loss: 1.3091\n",
            "Epoch 66: val_loss did not improve from 1.86494\n",
            "\u001b[1m120/120\u001b[0m \u001b[32m━━━━━━━━━━━━━━━━━━━━\u001b[0m\u001b[37m\u001b[0m \u001b[1m1s\u001b[0m 5ms/step - accuracy: 0.8312 - loss: 1.3088 - val_accuracy: 0.6534 - val_loss: 1.8710 - learning_rate: 1.0000e-06\n",
            "Epoch 67/100\n",
            "\u001b[1m119/120\u001b[0m \u001b[32m━━━━━━━━━━━━━━━━━━━\u001b[0m\u001b[37m━\u001b[0m \u001b[1m0s\u001b[0m 4ms/step - accuracy: 0.8114 - loss: 1.3453\n",
            "Epoch 67: val_loss did not improve from 1.86494\n",
            "\u001b[1m120/120\u001b[0m \u001b[32m━━━━━━━━━━━━━━━━━━━━\u001b[0m\u001b[37m\u001b[0m \u001b[1m1s\u001b[0m 5ms/step - accuracy: 0.8116 - loss: 1.3450 - val_accuracy: 0.6555 - val_loss: 1.8725 - learning_rate: 1.0000e-06\n",
            "Epoch 68/100\n",
            "\u001b[1m117/120\u001b[0m \u001b[32m━━━━━━━━━━━━━━━━━━━\u001b[0m\u001b[37m━\u001b[0m \u001b[1m0s\u001b[0m 4ms/step - accuracy: 0.8429 - loss: 1.3007\n",
            "Epoch 68: val_loss did not improve from 1.86494\n",
            "\u001b[1m120/120\u001b[0m \u001b[32m━━━━━━━━━━━━━━━━━━━━\u001b[0m\u001b[37m\u001b[0m \u001b[1m1s\u001b[0m 6ms/step - accuracy: 0.8426 - loss: 1.3010 - val_accuracy: 0.6534 - val_loss: 1.8719 - learning_rate: 1.0000e-06\n",
            "Epoch 69/100\n",
            "\u001b[1m120/120\u001b[0m \u001b[32m━━━━━━━━━━━━━━━━━━━━\u001b[0m\u001b[37m\u001b[0m \u001b[1m0s\u001b[0m 5ms/step - accuracy: 0.8397 - loss: 1.3104\n",
            "Epoch 69: val_loss did not improve from 1.86494\n",
            "\u001b[1m120/120\u001b[0m \u001b[32m━━━━━━━━━━━━━━━━━━━━\u001b[0m\u001b[37m\u001b[0m \u001b[1m1s\u001b[0m 6ms/step - accuracy: 0.8396 - loss: 1.3106 - val_accuracy: 0.6534 - val_loss: 1.8701 - learning_rate: 1.0000e-06\n",
            "Epoch 70/100\n",
            "\u001b[1m119/120\u001b[0m \u001b[32m━━━━━━━━━━━━━━━━━━━\u001b[0m\u001b[37m━\u001b[0m \u001b[1m0s\u001b[0m 5ms/step - accuracy: 0.8282 - loss: 1.3072\n",
            "Epoch 70: val_loss did not improve from 1.86494\n",
            "\u001b[1m120/120\u001b[0m \u001b[32m━━━━━━━━━━━━━━━━━━━━\u001b[0m\u001b[37m\u001b[0m \u001b[1m1s\u001b[0m 6ms/step - accuracy: 0.8281 - loss: 1.3073 - val_accuracy: 0.6534 - val_loss: 1.8706 - learning_rate: 1.0000e-06\n",
            "Epoch 71/100\n",
            "\u001b[1m114/120\u001b[0m \u001b[32m━━━━━━━━━━━━━━━━━━━\u001b[0m\u001b[37m━\u001b[0m \u001b[1m0s\u001b[0m 5ms/step - accuracy: 0.8124 - loss: 1.3290\n",
            "Epoch 71: val_loss did not improve from 1.86494\n",
            "\u001b[1m120/120\u001b[0m \u001b[32m━━━━━━━━━━━━━━━━━━━━\u001b[0m\u001b[37m\u001b[0m \u001b[1m1s\u001b[0m 6ms/step - accuracy: 0.8123 - loss: 1.3297 - val_accuracy: 0.6514 - val_loss: 1.8740 - learning_rate: 1.0000e-06\n",
            "Epoch 72/100\n",
            "\u001b[1m117/120\u001b[0m \u001b[32m━━━━━━━━━━━━━━━━━━━\u001b[0m\u001b[37m━\u001b[0m \u001b[1m0s\u001b[0m 5ms/step - accuracy: 0.8340 - loss: 1.3050\n",
            "Epoch 72: val_loss did not improve from 1.86494\n",
            "\u001b[1m120/120\u001b[0m \u001b[32m━━━━━━━━━━━━━━━━━━━━\u001b[0m\u001b[37m\u001b[0m \u001b[1m1s\u001b[0m 7ms/step - accuracy: 0.8335 - loss: 1.3055 - val_accuracy: 0.6514 - val_loss: 1.8739 - learning_rate: 1.0000e-06\n",
            "Epoch 73/100\n",
            "\u001b[1m108/120\u001b[0m \u001b[32m━━━━━━━━━━━━━━━━━━\u001b[0m\u001b[37m━━\u001b[0m \u001b[1m0s\u001b[0m 5ms/step - accuracy: 0.8468 - loss: 1.2918\n",
            "Epoch 73: val_loss did not improve from 1.86494\n",
            "\u001b[1m120/120\u001b[0m \u001b[32m━━━━━━━━━━━━━━━━━━━━\u001b[0m\u001b[37m\u001b[0m \u001b[1m1s\u001b[0m 6ms/step - accuracy: 0.8456 - loss: 1.2943 - val_accuracy: 0.6514 - val_loss: 1.8727 - learning_rate: 1.0000e-06\n",
            "Epoch 74/100\n",
            "\u001b[1m119/120\u001b[0m \u001b[32m━━━━━━━━━━━━━━━━━━━\u001b[0m\u001b[37m━\u001b[0m \u001b[1m0s\u001b[0m 4ms/step - accuracy: 0.8195 - loss: 1.3323\n",
            "Epoch 74: val_loss did not improve from 1.86494\n",
            "\u001b[1m120/120\u001b[0m \u001b[32m━━━━━━━━━━━━━━━━━━━━\u001b[0m\u001b[37m\u001b[0m \u001b[1m1s\u001b[0m 5ms/step - accuracy: 0.8195 - loss: 1.3324 - val_accuracy: 0.6514 - val_loss: 1.8686 - learning_rate: 1.0000e-06\n",
            "Epoch 75/100\n",
            "\u001b[1m117/120\u001b[0m \u001b[32m━━━━━━━━━━━━━━━━━━━\u001b[0m\u001b[37m━\u001b[0m \u001b[1m0s\u001b[0m 4ms/step - accuracy: 0.8318 - loss: 1.3068\n",
            "Epoch 75: val_loss did not improve from 1.86494\n",
            "\u001b[1m120/120\u001b[0m \u001b[32m━━━━━━━━━━━━━━━━━━━━\u001b[0m\u001b[37m\u001b[0m \u001b[1m1s\u001b[0m 5ms/step - accuracy: 0.8316 - loss: 1.3071 - val_accuracy: 0.6534 - val_loss: 1.8756 - learning_rate: 1.0000e-06\n",
            "Epoch 76/100\n",
            "\u001b[1m120/120\u001b[0m \u001b[32m━━━━━━━━━━━━━━━━━━━━\u001b[0m\u001b[37m\u001b[0m \u001b[1m0s\u001b[0m 4ms/step - accuracy: 0.8093 - loss: 1.3372\n",
            "Epoch 76: val_loss did not improve from 1.86494\n",
            "\u001b[1m120/120\u001b[0m \u001b[32m━━━━━━━━━━━━━━━━━━━━\u001b[0m\u001b[37m\u001b[0m \u001b[1m1s\u001b[0m 5ms/step - accuracy: 0.8093 - loss: 1.3371 - val_accuracy: 0.6514 - val_loss: 1.8653 - learning_rate: 1.0000e-06\n",
            "Epoch 77/100\n",
            "\u001b[1m119/120\u001b[0m \u001b[32m━━━━━━━━━━━━━━━━━━━\u001b[0m\u001b[37m━\u001b[0m \u001b[1m0s\u001b[0m 4ms/step - accuracy: 0.8272 - loss: 1.3269\n",
            "Epoch 77: val_loss improved from 1.86494 to 1.85886, saving model to ./gdrive/MyDrive/cnn/accent_model.keras\n",
            "\u001b[1m120/120\u001b[0m \u001b[32m━━━━━━━━━━━━━━━━━━━━\u001b[0m\u001b[37m\u001b[0m \u001b[1m1s\u001b[0m 5ms/step - accuracy: 0.8270 - loss: 1.3270 - val_accuracy: 0.6514 - val_loss: 1.8589 - learning_rate: 1.0000e-06\n",
            "Epoch 78/100\n",
            "\u001b[1m109/120\u001b[0m \u001b[32m━━━━━━━━━━━━━━━━━━\u001b[0m\u001b[37m━━\u001b[0m \u001b[1m0s\u001b[0m 4ms/step - accuracy: 0.8345 - loss: 1.3059\n",
            "Epoch 78: val_loss did not improve from 1.85886\n",
            "\u001b[1m120/120\u001b[0m \u001b[32m━━━━━━━━━━━━━━━━━━━━\u001b[0m\u001b[37m\u001b[0m \u001b[1m1s\u001b[0m 5ms/step - accuracy: 0.8342 - loss: 1.3058 - val_accuracy: 0.6555 - val_loss: 1.8645 - learning_rate: 1.0000e-06\n",
            "Epoch 79/100\n",
            "\u001b[1m107/120\u001b[0m \u001b[32m━━━━━━━━━━━━━━━━━\u001b[0m\u001b[37m━━━\u001b[0m \u001b[1m0s\u001b[0m 4ms/step - accuracy: 0.8319 - loss: 1.3071\n",
            "Epoch 79: val_loss did not improve from 1.85886\n",
            "\u001b[1m120/120\u001b[0m \u001b[32m━━━━━━━━━━━━━━━━━━━━\u001b[0m\u001b[37m\u001b[0m \u001b[1m1s\u001b[0m 5ms/step - accuracy: 0.8315 - loss: 1.3088 - val_accuracy: 0.6534 - val_loss: 1.8644 - learning_rate: 1.0000e-06\n",
            "Epoch 80/100\n",
            "\u001b[1m120/120\u001b[0m \u001b[32m━━━━━━━━━━━━━━━━━━━━\u001b[0m\u001b[37m\u001b[0m \u001b[1m0s\u001b[0m 4ms/step - accuracy: 0.8148 - loss: 1.3523\n",
            "Epoch 80: val_loss did not improve from 1.85886\n",
            "\u001b[1m120/120\u001b[0m \u001b[32m━━━━━━━━━━━━━━━━━━━━\u001b[0m\u001b[37m\u001b[0m \u001b[1m1s\u001b[0m 5ms/step - accuracy: 0.8149 - loss: 1.3521 - val_accuracy: 0.6514 - val_loss: 1.8722 - learning_rate: 1.0000e-06\n",
            "Epoch 81/100\n",
            "\u001b[1m118/120\u001b[0m \u001b[32m━━━━━━━━━━━━━━━━━━━\u001b[0m\u001b[37m━\u001b[0m \u001b[1m0s\u001b[0m 4ms/step - accuracy: 0.8220 - loss: 1.3382\n",
            "Epoch 81: val_loss did not improve from 1.85886\n",
            "\u001b[1m120/120\u001b[0m \u001b[32m━━━━━━━━━━━━━━━━━━━━\u001b[0m\u001b[37m\u001b[0m \u001b[1m1s\u001b[0m 5ms/step - accuracy: 0.8225 - loss: 1.3377 - val_accuracy: 0.6514 - val_loss: 1.8702 - learning_rate: 1.0000e-06\n",
            "Epoch 82/100\n",
            "\u001b[1m110/120\u001b[0m \u001b[32m━━━━━━━━━━━━━━━━━━\u001b[0m\u001b[37m━━\u001b[0m \u001b[1m0s\u001b[0m 4ms/step - accuracy: 0.8155 - loss: 1.3170\n",
            "Epoch 82: val_loss did not improve from 1.85886\n",
            "\u001b[1m120/120\u001b[0m \u001b[32m━━━━━━━━━━━━━━━━━━━━\u001b[0m\u001b[37m\u001b[0m \u001b[1m1s\u001b[0m 5ms/step - accuracy: 0.8159 - loss: 1.3175 - val_accuracy: 0.6555 - val_loss: 1.8703 - learning_rate: 1.0000e-06\n",
            "Epoch 83/100\n",
            "\u001b[1m107/120\u001b[0m \u001b[32m━━━━━━━━━━━━━━━━━\u001b[0m\u001b[37m━━━\u001b[0m \u001b[1m0s\u001b[0m 4ms/step - accuracy: 0.8272 - loss: 1.3064\n",
            "Epoch 83: val_loss did not improve from 1.85886\n",
            "\u001b[1m120/120\u001b[0m \u001b[32m━━━━━━━━━━━━━━━━━━━━\u001b[0m\u001b[37m\u001b[0m \u001b[1m1s\u001b[0m 5ms/step - accuracy: 0.8276 - loss: 1.3071 - val_accuracy: 0.6534 - val_loss: 1.8728 - learning_rate: 1.0000e-06\n",
            "Epoch 84/100\n",
            "\u001b[1m118/120\u001b[0m \u001b[32m━━━━━━━━━━━━━━━━━━━\u001b[0m\u001b[37m━\u001b[0m \u001b[1m0s\u001b[0m 4ms/step - accuracy: 0.8186 - loss: 1.3204\n",
            "Epoch 84: val_loss did not improve from 1.85886\n",
            "\u001b[1m120/120\u001b[0m \u001b[32m━━━━━━━━━━━━━━━━━━━━\u001b[0m\u001b[37m\u001b[0m \u001b[1m1s\u001b[0m 5ms/step - accuracy: 0.8189 - loss: 1.3198 - val_accuracy: 0.6493 - val_loss: 1.8649 - learning_rate: 1.0000e-06\n",
            "Epoch 85/100\n",
            "\u001b[1m110/120\u001b[0m \u001b[32m━━━━━━━━━━━━━━━━━━\u001b[0m\u001b[37m━━\u001b[0m \u001b[1m0s\u001b[0m 4ms/step - accuracy: 0.8168 - loss: 1.3116\n",
            "Epoch 85: val_loss did not improve from 1.85886\n",
            "\u001b[1m120/120\u001b[0m \u001b[32m━━━━━━━━━━━━━━━━━━━━\u001b[0m\u001b[37m\u001b[0m \u001b[1m1s\u001b[0m 6ms/step - accuracy: 0.8179 - loss: 1.3110 - val_accuracy: 0.6534 - val_loss: 1.8675 - learning_rate: 1.0000e-06\n",
            "Epoch 86/100\n",
            "\u001b[1m118/120\u001b[0m \u001b[32m━━━━━━━━━━━━━━━━━━━\u001b[0m\u001b[37m━\u001b[0m \u001b[1m0s\u001b[0m 4ms/step - accuracy: 0.8281 - loss: 1.3110\n",
            "Epoch 86: val_loss did not improve from 1.85886\n",
            "\u001b[1m120/120\u001b[0m \u001b[32m━━━━━━━━━━━━━━━━━━━━\u001b[0m\u001b[37m\u001b[0m \u001b[1m1s\u001b[0m 5ms/step - accuracy: 0.8282 - loss: 1.3109 - val_accuracy: 0.6472 - val_loss: 1.8661 - learning_rate: 1.0000e-06\n",
            "Epoch 87/100\n",
            "\u001b[1m117/120\u001b[0m \u001b[32m━━━━━━━━━━━━━━━━━━━\u001b[0m\u001b[37m━\u001b[0m \u001b[1m0s\u001b[0m 4ms/step - accuracy: 0.8459 - loss: 1.3006\n",
            "Epoch 87: val_loss did not improve from 1.85886\n",
            "\u001b[1m120/120\u001b[0m \u001b[32m━━━━━━━━━━━━━━━━━━━━\u001b[0m\u001b[37m\u001b[0m \u001b[1m1s\u001b[0m 5ms/step - accuracy: 0.8455 - loss: 1.3010 - val_accuracy: 0.6493 - val_loss: 1.8661 - learning_rate: 1.0000e-06\n",
            "Epoch 88/100\n",
            "\u001b[1m116/120\u001b[0m \u001b[32m━━━━━━━━━━━━━━━━━━━\u001b[0m\u001b[37m━\u001b[0m \u001b[1m0s\u001b[0m 5ms/step - accuracy: 0.8401 - loss: 1.3041\n",
            "Epoch 88: val_loss did not improve from 1.85886\n",
            "\u001b[1m120/120\u001b[0m \u001b[32m━━━━━━━━━━━━━━━━━━━━\u001b[0m\u001b[37m\u001b[0m \u001b[1m1s\u001b[0m 6ms/step - accuracy: 0.8395 - loss: 1.3048 - val_accuracy: 0.6493 - val_loss: 1.8649 - learning_rate: 1.0000e-06\n",
            "Epoch 89/100\n",
            "\u001b[1m112/120\u001b[0m \u001b[32m━━━━━━━━━━━━━━━━━━\u001b[0m\u001b[37m━━\u001b[0m \u001b[1m0s\u001b[0m 5ms/step - accuracy: 0.8245 - loss: 1.3121\n",
            "Epoch 89: val_loss did not improve from 1.85886\n",
            "\u001b[1m120/120\u001b[0m \u001b[32m━━━━━━━━━━━━━━━━━━━━\u001b[0m\u001b[37m\u001b[0m \u001b[1m1s\u001b[0m 6ms/step - accuracy: 0.8254 - loss: 1.3109 - val_accuracy: 0.6534 - val_loss: 1.8729 - learning_rate: 1.0000e-06\n",
            "Epoch 90/100\n",
            "\u001b[1m114/120\u001b[0m \u001b[32m━━━━━━━━━━━━━━━━━━━\u001b[0m\u001b[37m━\u001b[0m \u001b[1m0s\u001b[0m 5ms/step - accuracy: 0.8335 - loss: 1.3274\n",
            "Epoch 90: val_loss did not improve from 1.85886\n",
            "\u001b[1m120/120\u001b[0m \u001b[32m━━━━━━━━━━━━━━━━━━━━\u001b[0m\u001b[37m\u001b[0m \u001b[1m1s\u001b[0m 6ms/step - accuracy: 0.8331 - loss: 1.3271 - val_accuracy: 0.6514 - val_loss: 1.8703 - learning_rate: 1.0000e-06\n",
            "Epoch 91/100\n",
            "\u001b[1m118/120\u001b[0m \u001b[32m━━━━━━━━━━━━━━━━━━━\u001b[0m\u001b[37m━\u001b[0m \u001b[1m0s\u001b[0m 5ms/step - accuracy: 0.8292 - loss: 1.3226\n",
            "Epoch 91: val_loss did not improve from 1.85886\n",
            "\u001b[1m120/120\u001b[0m \u001b[32m━━━━━━━━━━━━━━━━━━━━\u001b[0m\u001b[37m\u001b[0m \u001b[1m1s\u001b[0m 6ms/step - accuracy: 0.8292 - loss: 1.3225 - val_accuracy: 0.6493 - val_loss: 1.8705 - learning_rate: 1.0000e-06\n",
            "Epoch 92/100\n",
            "\u001b[1m115/120\u001b[0m \u001b[32m━━━━━━━━━━━━━━━━━━━\u001b[0m\u001b[37m━\u001b[0m \u001b[1m0s\u001b[0m 4ms/step - accuracy: 0.8259 - loss: 1.3089\n",
            "Epoch 92: val_loss did not improve from 1.85886\n",
            "\u001b[1m120/120\u001b[0m \u001b[32m━━━━━━━━━━━━━━━━━━━━\u001b[0m\u001b[37m\u001b[0m \u001b[1m1s\u001b[0m 5ms/step - accuracy: 0.8259 - loss: 1.3088 - val_accuracy: 0.6514 - val_loss: 1.8741 - learning_rate: 1.0000e-06\n",
            "Epoch 93/100\n",
            "\u001b[1m109/120\u001b[0m \u001b[32m━━━━━━━━━━━━━━━━━━\u001b[0m\u001b[37m━━\u001b[0m \u001b[1m0s\u001b[0m 4ms/step - accuracy: 0.8241 - loss: 1.3106\n",
            "Epoch 93: val_loss did not improve from 1.85886\n",
            "\u001b[1m120/120\u001b[0m \u001b[32m━━━━━━━━━━━━━━━━━━━━\u001b[0m\u001b[37m\u001b[0m \u001b[1m1s\u001b[0m 5ms/step - accuracy: 0.8241 - loss: 1.3108 - val_accuracy: 0.6514 - val_loss: 1.8745 - learning_rate: 1.0000e-06\n",
            "Epoch 94/100\n",
            "\u001b[1m115/120\u001b[0m \u001b[32m━━━━━━━━━━━━━━━━━━━\u001b[0m\u001b[37m━\u001b[0m \u001b[1m0s\u001b[0m 4ms/step - accuracy: 0.8309 - loss: 1.3086\n",
            "Epoch 94: val_loss did not improve from 1.85886\n",
            "\u001b[1m120/120\u001b[0m \u001b[32m━━━━━━━━━━━━━━━━━━━━\u001b[0m\u001b[37m\u001b[0m \u001b[1m1s\u001b[0m 5ms/step - accuracy: 0.8310 - loss: 1.3086 - val_accuracy: 0.6514 - val_loss: 1.8779 - learning_rate: 1.0000e-06\n",
            "Epoch 95/100\n",
            "\u001b[1m118/120\u001b[0m \u001b[32m━━━━━━━━━━━━━━━━━━━\u001b[0m\u001b[37m━\u001b[0m \u001b[1m0s\u001b[0m 4ms/step - accuracy: 0.8283 - loss: 1.3055\n",
            "Epoch 95: val_loss did not improve from 1.85886\n",
            "\u001b[1m120/120\u001b[0m \u001b[32m━━━━━━━━━━━━━━━━━━━━\u001b[0m\u001b[37m\u001b[0m \u001b[1m1s\u001b[0m 5ms/step - accuracy: 0.8282 - loss: 1.3056 - val_accuracy: 0.6514 - val_loss: 1.8781 - learning_rate: 1.0000e-06\n",
            "Epoch 96/100\n",
            "\u001b[1m114/120\u001b[0m \u001b[32m━━━━━━━━━━━━━━━━━━━\u001b[0m\u001b[37m━\u001b[0m \u001b[1m0s\u001b[0m 4ms/step - accuracy: 0.8318 - loss: 1.2922\n",
            "Epoch 96: val_loss did not improve from 1.85886\n",
            "\u001b[1m120/120\u001b[0m \u001b[32m━━━━━━━━━━━━━━━━━━━━\u001b[0m\u001b[37m\u001b[0m \u001b[1m1s\u001b[0m 5ms/step - accuracy: 0.8318 - loss: 1.2925 - val_accuracy: 0.6555 - val_loss: 1.8713 - learning_rate: 1.0000e-06\n",
            "Epoch 97/100\n",
            "\u001b[1m118/120\u001b[0m \u001b[32m━━━━━━━━━━━━━━━━━━━\u001b[0m\u001b[37m━\u001b[0m \u001b[1m0s\u001b[0m 4ms/step - accuracy: 0.8300 - loss: 1.3009\n",
            "Epoch 97: val_loss did not improve from 1.85886\n",
            "\u001b[1m120/120\u001b[0m \u001b[32m━━━━━━━━━━━━━━━━━━━━\u001b[0m\u001b[37m\u001b[0m \u001b[1m1s\u001b[0m 5ms/step - accuracy: 0.8299 - loss: 1.3014 - val_accuracy: 0.6534 - val_loss: 1.8660 - learning_rate: 1.0000e-06\n",
            "Epoch 97: early stopping\n"
          ]
        },
        {
          "data": {
            "image/png": "[encoded data removed]",
            "text/plain": [
              "<Figure size 1200x500 with 2 Axes>"
            ]
          },
          "metadata": {},
          "output_type": "display_data"
        },
        {
          "name": "stdout",
          "output_type": "stream",
          "text": [
            "Validation loss: 1.8659719228744507\n",
            "Validation accuracy: 0.6534446477890015\n",
            "\u001b[1m15/15\u001b[0m \u001b[32m━━━━━━━━━━━━━━━━━━━━\u001b[0m\u001b[37m\u001b[0m \u001b[1m1s\u001b[0m 20ms/step\n"
          ]
        },
        {
          "data": {
            "image/png": "[encoded data removed]",
            "text/plain": [
              "<Figure size 800x600 with 2 Axes>"
            ]
          },
          "metadata": {},
          "output_type": "display_data"
        }
      ],
      "source": [
        "history = model.fit(\n",
        "    x_train, y_train,\n",
        "    epochs=100,\n",
        "    batch_size=16,\n",
        "    validation_data=(x_val, y_val),\n",
        "    callbacks=[es, mc, lr_scheduler],\n",
        "    class_weight=class_weight_dict,\n",
        "    verbose=1\n",
        ")\n",
        "\n",
        "# -----------------------------\n",
        "# Plot training curves\n",
        "# -----------------------------\n",
        "plt.figure(figsize=(12, 5))\n",
        "\n",
        "# Accuracy\n",
        "plt.subplot(1, 2, 1)\n",
        "plt.plot(history.history['accuracy'], label='Train Accuracy')\n",
        "plt.plot(history.history['val_accuracy'], label='Validation Accuracy')\n",
        "plt.title(\"Accuracy\")\n",
        "plt.xlabel('Epochs')\n",
        "plt.ylabel('Accuracy')\n",
        "plt.legend()\n",
        "\n",
        "# Loss\n",
        "plt.subplot(1, 2, 2)\n",
        "plt.plot(history.history['loss'], label='Train Loss')\n",
        "plt.plot(history.history['val_loss'], label='Validation Loss')\n",
        "plt.title(\"Loss\")\n",
        "plt.xlabel('Epochs')\n",
        "plt.ylabel('Loss')\n",
        "plt.legend()\n",
        "\n",
        "plt.tight_layout()\n",
        "plt.show()\n",
        "\n",
        "# -----------------------------\n",
        "# Final model evaluation\n",
        "# -----------------------------\n",
        "score = model.evaluate(x_val, y_val, verbose=0)\n",
        "print('Validation loss:', score[0])\n",
        "print('Validation accuracy:', score[1])\n",
        "\n",
        "# -----------------------------\n",
        "# Confusion matrix\n",
        "# -----------------------------\n",
        "\n",
        "class_names = ['england', 'india', 'usa']\n",
        "\n",
        "y_pred = model.predict(x_val)\n",
        "y_pred_labels = np.argmax(y_pred, axis=1)\n",
        "y_true_labels = np.argmax(y_val, axis=1)\n",
        "\n",
        "cm = confusion_matrix(y_true_labels, y_pred_labels)\n",
        "\n",
        "plt.figure(figsize=(8, 6))\n",
        "sns.heatmap(cm,\n",
        "            annot=True,\n",
        "            fmt=\"d\",\n",
        "            cmap='Blues',\n",
        "            xticklabels=class_names,\n",
        "            yticklabels=class_names)\n",
        "plt.title('Confusion Matrix')\n",
        "plt.ylabel('Actual')\n",
        "plt.xlabel('Predicted')\n",
        "plt.show()\n",
        "\n"
      ]
    },
    {
      "cell_type": "code",
      "execution_count": 51,
      "metadata": {
        "colab": {
          "base_uri": "https://localhost:8080/"
        },
        "id": "gO00EKE1YqbF",
        "outputId": "fb7e4522-8566-4725-f5ce-034238e9df7d"
      },
      "outputs": [
        {
          "name": "stdout",
          "output_type": "stream",
          "text": [
            "Average Precision: 0.7023\n",
            "Average Recall: 0.5774\n",
            "F1 Score: 0.6338\n"
          ]
        }
      ],
      "source": [
        "# Precision, Recall, and F1 Score calculation\n",
        "TP = np.diag(cm)  # True Positives are on the diagonal\n",
        "FP = cm.sum(axis=0) - TP  # False Positives are the column sums minus the diagonal\n",
        "FN = cm.sum(axis=1) - TP  # False Negatives are the row sums minus the diagonal\n",
        "\n",
        "precision = np.sum(TP / (TP + FP)) / len(TP)  # Precision per class, then average\n",
        "recall = np.sum(TP / (TP + FN)) / len(TP)  # Recall per class, then average\n",
        "f1_score = 2 * (precision * recall) / (precision + recall)  # F1 Score\n",
        "\n",
        "print(f\"Average Precision: {precision:.4f}\")\n",
        "print(f\"Average Recall: {recall:.4f}\")\n",
        "print(f\"F1 Score: {f1_score:.4f}\")\n"
      ]
    },
    {
      "cell_type": "code",
      "execution_count": 50,
      "metadata": {
        "colab": {
          "base_uri": "https://localhost:8080/"
        },
        "id": "nHqiFiZE022a",
        "outputId": "508b7137-46f7-48c6-dca2-2c1481c457e9"
      },
      "outputs": [
        {
          "name": "stdout",
          "output_type": "stream",
          "text": [
            "Class 0:\n",
            "  Precision: 0.8400\n",
            "  Recall:    0.2386\n",
            "  F1 Score:  0.3717\n",
            "\n",
            "Class 1:\n",
            "  Precision: 0.5291\n",
            "  Recall:    0.7466\n",
            "  F1 Score:  0.6193\n",
            "\n",
            "Class 2:\n",
            "  Precision: 0.7379\n",
            "  Recall:    0.7469\n",
            "  F1 Score:  0.7424\n",
            "\n",
            "----- Macro Average -----\n",
            "Precision: 0.7023\n",
            "Recall:    0.5774\n",
            "F1 Score:  0.5778\n"
          ]
        }
      ],
      "source": [
        "import numpy as np\n",
        "\n",
        "# cm is a 3x3 confusion matrix: rows = true classes, cols = predicted classes\n",
        "\n",
        "# True Positives: diagonal elements\n",
        "TP = np.diag(cm)\n",
        "\n",
        "# False Positives: column sum minus diagonal\n",
        "FP = cm.sum(axis=0) - TP\n",
        "\n",
        "# False Negatives: row sum minus diagonal\n",
        "FN = cm.sum(axis=1) - TP\n",
        "\n",
        "# ----- Per-class metrics -----\n",
        "precision_per_class = TP / (TP + FP)\n",
        "recall_per_class    = TP / (TP + FN)\n",
        "f1_per_class        = 2 * precision_per_class * recall_per_class / (precision_per_class + recall_per_class)\n",
        "\n",
        "# ----- Macro average (unweighted) -----\n",
        "macro_precision = precision_per_class.mean()\n",
        "macro_recall    = recall_per_class.mean()\n",
        "macro_f1        = f1_per_class.mean()\n",
        "\n",
        "# ----- Print results -----\n",
        "for i in range(len(TP)):\n",
        "    print(f\"Class {i}:\")\n",
        "    print(f\"  Precision: {precision_per_class[i]:.4f}\")\n",
        "    print(f\"  Recall:    {recall_per_class[i]:.4f}\")\n",
        "    print(f\"  F1 Score:  {f1_per_class[i]:.4f}\\n\")\n",
        "\n",
        "print(\"----- Macro Average -----\")\n",
        "print(f\"Precision: {macro_precision:.4f}\")\n",
        "print(f\"Recall:    {macro_recall:.4f}\")\n",
        "print(f\"F1 Score:  {macro_f1:.4f}\")\n"
      ]
    }
  ],
  "metadata": {
    "accelerator": "GPU",
    "colab": {
      "gpuType": "T4",
      "provenance": []
    },
    "kernelspec": {
      "display_name": "Python 3",
      "name": "python3"
    },
    "language_info": {
      "name": "python"
    }
  },
  "nbformat": 4,
  "nbformat_minor": 0
}
